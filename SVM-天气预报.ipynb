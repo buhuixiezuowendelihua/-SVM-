{
 "cells": [
  {
   "cell_type": "markdown",
   "metadata": {},
   "source": [
    "## 一、导库导数据，探索特征"
   ]
  },
  {
   "cell_type": "markdown",
   "metadata": {},
   "source": [
    "### 1.导入需要的库"
   ]
  },
  {
   "cell_type": "code",
   "execution_count": 1,
   "metadata": {},
   "outputs": [],
   "source": [
    "import pandas as pd\n",
    "import numpy as np"
   ]
  },
  {
   "cell_type": "markdown",
   "metadata": {},
   "source": [
    "### 2.导入数据探索数据"
   ]
  },
  {
   "cell_type": "code",
   "execution_count": 2,
   "metadata": {
    "scrolled": false
   },
   "outputs": [
    {
     "data": {
      "text/html": [
       "<div>\n",
       "<style scoped>\n",
       "    .dataframe tbody tr th:only-of-type {\n",
       "        vertical-align: middle;\n",
       "    }\n",
       "\n",
       "    .dataframe tbody tr th {\n",
       "        vertical-align: top;\n",
       "    }\n",
       "\n",
       "    .dataframe thead th {\n",
       "        text-align: right;\n",
       "    }\n",
       "</style>\n",
       "<table border=\"1\" class=\"dataframe\">\n",
       "  <thead>\n",
       "    <tr style=\"text-align: right;\">\n",
       "      <th></th>\n",
       "      <th>Date</th>\n",
       "      <th>Location</th>\n",
       "      <th>MinTemp</th>\n",
       "      <th>MaxTemp</th>\n",
       "      <th>Rainfall</th>\n",
       "      <th>Evaporation</th>\n",
       "      <th>Sunshine</th>\n",
       "      <th>WindGustDir</th>\n",
       "      <th>WindGustSpeed</th>\n",
       "      <th>WindDir9am</th>\n",
       "      <th>...</th>\n",
       "      <th>WindSpeed3pm</th>\n",
       "      <th>Humidity9am</th>\n",
       "      <th>Humidity3pm</th>\n",
       "      <th>Pressure9am</th>\n",
       "      <th>Pressure3pm</th>\n",
       "      <th>Cloud9am</th>\n",
       "      <th>Cloud3pm</th>\n",
       "      <th>Temp9am</th>\n",
       "      <th>Temp3pm</th>\n",
       "      <th>RainTomorrow</th>\n",
       "    </tr>\n",
       "  </thead>\n",
       "  <tbody>\n",
       "    <tr>\n",
       "      <th>0</th>\n",
       "      <td>2008-12-01</td>\n",
       "      <td>Albury</td>\n",
       "      <td>13.4</td>\n",
       "      <td>22.9</td>\n",
       "      <td>0.6</td>\n",
       "      <td>NaN</td>\n",
       "      <td>NaN</td>\n",
       "      <td>W</td>\n",
       "      <td>44.0</td>\n",
       "      <td>W</td>\n",
       "      <td>...</td>\n",
       "      <td>24.0</td>\n",
       "      <td>71.0</td>\n",
       "      <td>22.0</td>\n",
       "      <td>1007.7</td>\n",
       "      <td>1007.1</td>\n",
       "      <td>8.0</td>\n",
       "      <td>NaN</td>\n",
       "      <td>16.9</td>\n",
       "      <td>21.8</td>\n",
       "      <td>No</td>\n",
       "    </tr>\n",
       "    <tr>\n",
       "      <th>1</th>\n",
       "      <td>2008-12-02</td>\n",
       "      <td>Albury</td>\n",
       "      <td>7.4</td>\n",
       "      <td>25.1</td>\n",
       "      <td>0.0</td>\n",
       "      <td>NaN</td>\n",
       "      <td>NaN</td>\n",
       "      <td>WNW</td>\n",
       "      <td>44.0</td>\n",
       "      <td>NNW</td>\n",
       "      <td>...</td>\n",
       "      <td>22.0</td>\n",
       "      <td>44.0</td>\n",
       "      <td>25.0</td>\n",
       "      <td>1010.6</td>\n",
       "      <td>1007.8</td>\n",
       "      <td>NaN</td>\n",
       "      <td>NaN</td>\n",
       "      <td>17.2</td>\n",
       "      <td>24.3</td>\n",
       "      <td>No</td>\n",
       "    </tr>\n",
       "    <tr>\n",
       "      <th>2</th>\n",
       "      <td>2008-12-03</td>\n",
       "      <td>Albury</td>\n",
       "      <td>12.9</td>\n",
       "      <td>25.7</td>\n",
       "      <td>0.0</td>\n",
       "      <td>NaN</td>\n",
       "      <td>NaN</td>\n",
       "      <td>WSW</td>\n",
       "      <td>46.0</td>\n",
       "      <td>W</td>\n",
       "      <td>...</td>\n",
       "      <td>26.0</td>\n",
       "      <td>38.0</td>\n",
       "      <td>30.0</td>\n",
       "      <td>1007.6</td>\n",
       "      <td>1008.7</td>\n",
       "      <td>NaN</td>\n",
       "      <td>2.0</td>\n",
       "      <td>21.0</td>\n",
       "      <td>23.2</td>\n",
       "      <td>No</td>\n",
       "    </tr>\n",
       "    <tr>\n",
       "      <th>3</th>\n",
       "      <td>2008-12-04</td>\n",
       "      <td>Albury</td>\n",
       "      <td>9.2</td>\n",
       "      <td>28.0</td>\n",
       "      <td>0.0</td>\n",
       "      <td>NaN</td>\n",
       "      <td>NaN</td>\n",
       "      <td>NE</td>\n",
       "      <td>24.0</td>\n",
       "      <td>SE</td>\n",
       "      <td>...</td>\n",
       "      <td>9.0</td>\n",
       "      <td>45.0</td>\n",
       "      <td>16.0</td>\n",
       "      <td>1017.6</td>\n",
       "      <td>1012.8</td>\n",
       "      <td>NaN</td>\n",
       "      <td>NaN</td>\n",
       "      <td>18.1</td>\n",
       "      <td>26.5</td>\n",
       "      <td>No</td>\n",
       "    </tr>\n",
       "    <tr>\n",
       "      <th>4</th>\n",
       "      <td>2008-12-05</td>\n",
       "      <td>Albury</td>\n",
       "      <td>17.5</td>\n",
       "      <td>32.3</td>\n",
       "      <td>1.0</td>\n",
       "      <td>NaN</td>\n",
       "      <td>NaN</td>\n",
       "      <td>W</td>\n",
       "      <td>41.0</td>\n",
       "      <td>ENE</td>\n",
       "      <td>...</td>\n",
       "      <td>20.0</td>\n",
       "      <td>82.0</td>\n",
       "      <td>33.0</td>\n",
       "      <td>1010.8</td>\n",
       "      <td>1006.0</td>\n",
       "      <td>7.0</td>\n",
       "      <td>8.0</td>\n",
       "      <td>17.8</td>\n",
       "      <td>29.7</td>\n",
       "      <td>No</td>\n",
       "    </tr>\n",
       "  </tbody>\n",
       "</table>\n",
       "<p>5 rows × 22 columns</p>\n",
       "</div>"
      ],
      "text/plain": [
       "         Date Location  MinTemp  MaxTemp  Rainfall  Evaporation  Sunshine  \\\n",
       "0  2008-12-01   Albury     13.4     22.9       0.6          NaN       NaN   \n",
       "1  2008-12-02   Albury      7.4     25.1       0.0          NaN       NaN   \n",
       "2  2008-12-03   Albury     12.9     25.7       0.0          NaN       NaN   \n",
       "3  2008-12-04   Albury      9.2     28.0       0.0          NaN       NaN   \n",
       "4  2008-12-05   Albury     17.5     32.3       1.0          NaN       NaN   \n",
       "\n",
       "  WindGustDir  WindGustSpeed WindDir9am  ... WindSpeed3pm  Humidity9am  \\\n",
       "0           W           44.0          W  ...         24.0         71.0   \n",
       "1         WNW           44.0        NNW  ...         22.0         44.0   \n",
       "2         WSW           46.0          W  ...         26.0         38.0   \n",
       "3          NE           24.0         SE  ...          9.0         45.0   \n",
       "4           W           41.0        ENE  ...         20.0         82.0   \n",
       "\n",
       "   Humidity3pm  Pressure9am  Pressure3pm  Cloud9am  Cloud3pm  Temp9am  \\\n",
       "0         22.0       1007.7       1007.1       8.0       NaN     16.9   \n",
       "1         25.0       1010.6       1007.8       NaN       NaN     17.2   \n",
       "2         30.0       1007.6       1008.7       NaN       2.0     21.0   \n",
       "3         16.0       1017.6       1012.8       NaN       NaN     18.1   \n",
       "4         33.0       1010.8       1006.0       7.0       8.0     17.8   \n",
       "\n",
       "   Temp3pm  RainTomorrow  \n",
       "0     21.8            No  \n",
       "1     24.3            No  \n",
       "2     23.2            No  \n",
       "3     26.5            No  \n",
       "4     29.7            No  \n",
       "\n",
       "[5 rows x 22 columns]"
      ]
     },
     "execution_count": 2,
     "metadata": {},
     "output_type": "execute_result"
    }
   ],
   "source": [
    "weather = pd.read_csv(\"E:/weather.csv\",index_col=0)\n",
    "weather.head()"
   ]
  },
  {
   "cell_type": "markdown",
   "metadata": {},
   "source": [
    "|特征|标签含义|\n",
    "|:--:|:--:|\n",
    "Date |观察日期\n",
    "Location |获取该信息的气象站的名称\n",
    "MinTemp |以摄氏度为单位的最低温度\n",
    "MaxTemp |以摄氏度为单位的最高温度\n",
    "Rainfall |当天记录的降雨量，单位为mm\n",
    "Evaporation |到早上9点之前的24小时的A级蒸发量（mm）\n",
    "Sunshine |白日受到日照的完整小时\n",
    "WindGustDir |在到午夜12点前的24小时中的最强风的风向\n",
    "WindGustSpeed |在到午夜12点前的24小时中的最强风速（km / h）\n",
    "WindDir9am |上午9点时的风向\n",
    "WindDir3pm |下午3点时的风向\n",
    "WindSpeed9am |上午9点之前每个十分钟的风速的平均值（km / h）\n",
    "WindSpeed3pm |下午3点之前每个十分钟的风速的平均值（km / h）\n",
    "Humidity9am |上午9点的湿度（百分比）\n",
    "Humidity3am |下午3点的湿度（百分比）\n",
    "Pressure9am |上午9点平均海平面上的大气压（hpa）\n",
    "Pressure3pm |下午3点平均海平面上的大气压（hpa）\n",
    "Cloud9am|上午9点的天空被云层遮蔽的程度，这是以“oktas”来衡量的，这个单位记录了云层遮挡天空的程度。0表示完全晴朗的天空，而8表示它完全是阴天。\n",
    "Cloud3pm |下午3点的天空被云层遮蔽的程度\n",
    "Temp9am |上午9点的摄氏度温度\n",
    "Temp3pm |下午3点的摄氏度温度\n",
    "RainTomorrow |目标变量，我们的标签：明天下雨了吗？"
   ]
  },
  {
   "cell_type": "markdown",
   "metadata": {},
   "source": [
    "粗略观察可以发现，这个特征矩阵由一部分分类变量和一部分连续变量组成，其中云层遮蔽程度虽然是以数字表\n",
    "示，但是本质却是分类变量。大多数特征都是采集的自然数据，比如蒸发量，日照时间，湿度等等，而少部分特征\n",
    "是人为构成的。还有一些是单纯表示样本信息的变量，比如采集信息的地点，以及采集的时间。"
   ]
  },
  {
   "cell_type": "code",
   "execution_count": 3,
   "metadata": {},
   "outputs": [
    {
     "data": {
      "text/plain": [
       "(142193, 21)"
      ]
     },
     "execution_count": 3,
     "metadata": {},
     "output_type": "execute_result"
    }
   ],
   "source": [
    "#将特征矩阵和标签Y分开\n",
    "X = weather.iloc[:,:-1]\n",
    "Y = weather.iloc[:,-1]\n",
    "X.shape"
   ]
  },
  {
   "cell_type": "code",
   "execution_count": 4,
   "metadata": {},
   "outputs": [
    {
     "name": "stdout",
     "output_type": "stream",
     "text": [
      "<class 'pandas.core.frame.DataFrame'>\n",
      "Int64Index: 142193 entries, 0 to 142192\n",
      "Data columns (total 21 columns):\n",
      " #   Column         Non-Null Count   Dtype  \n",
      "---  ------         --------------   -----  \n",
      " 0   Date           142193 non-null  object \n",
      " 1   Location       142193 non-null  object \n",
      " 2   MinTemp        141556 non-null  float64\n",
      " 3   MaxTemp        141871 non-null  float64\n",
      " 4   Rainfall       140787 non-null  float64\n",
      " 5   Evaporation    81350 non-null   float64\n",
      " 6   Sunshine       74377 non-null   float64\n",
      " 7   WindGustDir    132863 non-null  object \n",
      " 8   WindGustSpeed  132923 non-null  float64\n",
      " 9   WindDir9am     132180 non-null  object \n",
      " 10  WindDir3pm     138415 non-null  object \n",
      " 11  WindSpeed9am   140845 non-null  float64\n",
      " 12  WindSpeed3pm   139563 non-null  float64\n",
      " 13  Humidity9am    140419 non-null  float64\n",
      " 14  Humidity3pm    138583 non-null  float64\n",
      " 15  Pressure9am    128179 non-null  float64\n",
      " 16  Pressure3pm    128212 non-null  float64\n",
      " 17  Cloud9am       88536 non-null   float64\n",
      " 18  Cloud3pm       85099 non-null   float64\n",
      " 19  Temp9am        141289 non-null  float64\n",
      " 20  Temp3pm        139467 non-null  float64\n",
      "dtypes: float64(16), object(5)\n",
      "memory usage: 23.9+ MB\n"
     ]
    }
   ],
   "source": [
    "#探索数据类型\n",
    "X.info()"
   ]
  },
  {
   "cell_type": "code",
   "execution_count": 5,
   "metadata": {},
   "outputs": [
    {
     "data": {
      "text/plain": [
       "Date             0.000000\n",
       "Location         0.000000\n",
       "MinTemp          0.004480\n",
       "MaxTemp          0.002265\n",
       "Rainfall         0.009888\n",
       "Evaporation      0.427890\n",
       "Sunshine         0.476929\n",
       "WindGustDir      0.065615\n",
       "WindGustSpeed    0.065193\n",
       "WindDir9am       0.070418\n",
       "WindDir3pm       0.026570\n",
       "WindSpeed9am     0.009480\n",
       "WindSpeed3pm     0.018496\n",
       "Humidity9am      0.012476\n",
       "Humidity3pm      0.025388\n",
       "Pressure9am      0.098556\n",
       "Pressure3pm      0.098324\n",
       "Cloud9am         0.377353\n",
       "Cloud3pm         0.401525\n",
       "Temp9am          0.006358\n",
       "Temp3pm          0.019171\n",
       "dtype: float64"
      ]
     },
     "execution_count": 5,
     "metadata": {},
     "output_type": "execute_result"
    }
   ],
   "source": [
    "#探索缺失值，以及缺失值所占总值的比例\n",
    "X.isnull().sum()/X.shape[0]"
   ]
  },
  {
   "cell_type": "code",
   "execution_count": 6,
   "metadata": {},
   "outputs": [
    {
     "data": {
      "text/plain": [
       "Date             0.000000\n",
       "Location         0.000000\n",
       "MinTemp          0.004480\n",
       "MaxTemp          0.002265\n",
       "Rainfall         0.009888\n",
       "Evaporation      0.427890\n",
       "Sunshine         0.476929\n",
       "WindGustDir      0.065615\n",
       "WindGustSpeed    0.065193\n",
       "WindDir9am       0.070418\n",
       "WindDir3pm       0.026570\n",
       "WindSpeed9am     0.009480\n",
       "WindSpeed3pm     0.018496\n",
       "Humidity9am      0.012476\n",
       "Humidity3pm      0.025388\n",
       "Pressure9am      0.098556\n",
       "Pressure3pm      0.098324\n",
       "Cloud9am         0.377353\n",
       "Cloud3pm         0.401525\n",
       "Temp9am          0.006358\n",
       "Temp3pm          0.019171\n",
       "dtype: float64"
      ]
     },
     "execution_count": 6,
     "metadata": {},
     "output_type": "execute_result"
    }
   ],
   "source": [
    "#或者使用\n",
    "X.isnull().mean()"
   ]
  },
  {
   "cell_type": "code",
   "execution_count": 7,
   "metadata": {},
   "outputs": [
    {
     "data": {
      "text/plain": [
       "array(['No', 'Yes'], dtype=object)"
      ]
     },
     "execution_count": 7,
     "metadata": {},
     "output_type": "execute_result"
    }
   ],
   "source": [
    "#探索标签的分类\n",
    "np.unique(Y)"
   ]
  },
  {
   "cell_type": "code",
   "execution_count": 8,
   "metadata": {},
   "outputs": [
    {
     "data": {
      "text/html": [
       "<div>\n",
       "<style scoped>\n",
       "    .dataframe tbody tr th:only-of-type {\n",
       "        vertical-align: middle;\n",
       "    }\n",
       "\n",
       "    .dataframe tbody tr th {\n",
       "        vertical-align: top;\n",
       "    }\n",
       "\n",
       "    .dataframe thead th {\n",
       "        text-align: right;\n",
       "    }\n",
       "</style>\n",
       "<table border=\"1\" class=\"dataframe\">\n",
       "  <thead>\n",
       "    <tr style=\"text-align: right;\">\n",
       "      <th></th>\n",
       "      <th>Date</th>\n",
       "      <th>Location</th>\n",
       "      <th>MinTemp</th>\n",
       "      <th>MaxTemp</th>\n",
       "      <th>Rainfall</th>\n",
       "      <th>Evaporation</th>\n",
       "      <th>Sunshine</th>\n",
       "      <th>WindGustDir</th>\n",
       "      <th>WindGustSpeed</th>\n",
       "      <th>WindDir9am</th>\n",
       "      <th>...</th>\n",
       "      <th>WindSpeed9am</th>\n",
       "      <th>WindSpeed3pm</th>\n",
       "      <th>Humidity9am</th>\n",
       "      <th>Humidity3pm</th>\n",
       "      <th>Pressure9am</th>\n",
       "      <th>Pressure3pm</th>\n",
       "      <th>Cloud9am</th>\n",
       "      <th>Cloud3pm</th>\n",
       "      <th>Temp9am</th>\n",
       "      <th>Temp3pm</th>\n",
       "    </tr>\n",
       "  </thead>\n",
       "  <tbody>\n",
       "    <tr>\n",
       "      <th>0</th>\n",
       "      <td>2008-12-01</td>\n",
       "      <td>Albury</td>\n",
       "      <td>13.4</td>\n",
       "      <td>22.9</td>\n",
       "      <td>0.6</td>\n",
       "      <td>NaN</td>\n",
       "      <td>NaN</td>\n",
       "      <td>W</td>\n",
       "      <td>44.0</td>\n",
       "      <td>W</td>\n",
       "      <td>...</td>\n",
       "      <td>20.0</td>\n",
       "      <td>24.0</td>\n",
       "      <td>71.0</td>\n",
       "      <td>22.0</td>\n",
       "      <td>1007.7</td>\n",
       "      <td>1007.1</td>\n",
       "      <td>8.0</td>\n",
       "      <td>NaN</td>\n",
       "      <td>16.9</td>\n",
       "      <td>21.8</td>\n",
       "    </tr>\n",
       "    <tr>\n",
       "      <th>1</th>\n",
       "      <td>2008-12-02</td>\n",
       "      <td>Albury</td>\n",
       "      <td>7.4</td>\n",
       "      <td>25.1</td>\n",
       "      <td>0.0</td>\n",
       "      <td>NaN</td>\n",
       "      <td>NaN</td>\n",
       "      <td>WNW</td>\n",
       "      <td>44.0</td>\n",
       "      <td>NNW</td>\n",
       "      <td>...</td>\n",
       "      <td>4.0</td>\n",
       "      <td>22.0</td>\n",
       "      <td>44.0</td>\n",
       "      <td>25.0</td>\n",
       "      <td>1010.6</td>\n",
       "      <td>1007.8</td>\n",
       "      <td>NaN</td>\n",
       "      <td>NaN</td>\n",
       "      <td>17.2</td>\n",
       "      <td>24.3</td>\n",
       "    </tr>\n",
       "    <tr>\n",
       "      <th>2</th>\n",
       "      <td>2008-12-03</td>\n",
       "      <td>Albury</td>\n",
       "      <td>12.9</td>\n",
       "      <td>25.7</td>\n",
       "      <td>0.0</td>\n",
       "      <td>NaN</td>\n",
       "      <td>NaN</td>\n",
       "      <td>WSW</td>\n",
       "      <td>46.0</td>\n",
       "      <td>W</td>\n",
       "      <td>...</td>\n",
       "      <td>19.0</td>\n",
       "      <td>26.0</td>\n",
       "      <td>38.0</td>\n",
       "      <td>30.0</td>\n",
       "      <td>1007.6</td>\n",
       "      <td>1008.7</td>\n",
       "      <td>NaN</td>\n",
       "      <td>2.0</td>\n",
       "      <td>21.0</td>\n",
       "      <td>23.2</td>\n",
       "    </tr>\n",
       "    <tr>\n",
       "      <th>3</th>\n",
       "      <td>2008-12-04</td>\n",
       "      <td>Albury</td>\n",
       "      <td>9.2</td>\n",
       "      <td>28.0</td>\n",
       "      <td>0.0</td>\n",
       "      <td>NaN</td>\n",
       "      <td>NaN</td>\n",
       "      <td>NE</td>\n",
       "      <td>24.0</td>\n",
       "      <td>SE</td>\n",
       "      <td>...</td>\n",
       "      <td>11.0</td>\n",
       "      <td>9.0</td>\n",
       "      <td>45.0</td>\n",
       "      <td>16.0</td>\n",
       "      <td>1017.6</td>\n",
       "      <td>1012.8</td>\n",
       "      <td>NaN</td>\n",
       "      <td>NaN</td>\n",
       "      <td>18.1</td>\n",
       "      <td>26.5</td>\n",
       "    </tr>\n",
       "    <tr>\n",
       "      <th>4</th>\n",
       "      <td>2008-12-05</td>\n",
       "      <td>Albury</td>\n",
       "      <td>17.5</td>\n",
       "      <td>32.3</td>\n",
       "      <td>1.0</td>\n",
       "      <td>NaN</td>\n",
       "      <td>NaN</td>\n",
       "      <td>W</td>\n",
       "      <td>41.0</td>\n",
       "      <td>ENE</td>\n",
       "      <td>...</td>\n",
       "      <td>7.0</td>\n",
       "      <td>20.0</td>\n",
       "      <td>82.0</td>\n",
       "      <td>33.0</td>\n",
       "      <td>1010.8</td>\n",
       "      <td>1006.0</td>\n",
       "      <td>7.0</td>\n",
       "      <td>8.0</td>\n",
       "      <td>17.8</td>\n",
       "      <td>29.7</td>\n",
       "    </tr>\n",
       "  </tbody>\n",
       "</table>\n",
       "<p>5 rows × 21 columns</p>\n",
       "</div>"
      ],
      "text/plain": [
       "         Date Location  MinTemp  MaxTemp  Rainfall  Evaporation  Sunshine  \\\n",
       "0  2008-12-01   Albury     13.4     22.9       0.6          NaN       NaN   \n",
       "1  2008-12-02   Albury      7.4     25.1       0.0          NaN       NaN   \n",
       "2  2008-12-03   Albury     12.9     25.7       0.0          NaN       NaN   \n",
       "3  2008-12-04   Albury      9.2     28.0       0.0          NaN       NaN   \n",
       "4  2008-12-05   Albury     17.5     32.3       1.0          NaN       NaN   \n",
       "\n",
       "  WindGustDir  WindGustSpeed WindDir9am  ... WindSpeed9am  WindSpeed3pm  \\\n",
       "0           W           44.0          W  ...         20.0          24.0   \n",
       "1         WNW           44.0        NNW  ...          4.0          22.0   \n",
       "2         WSW           46.0          W  ...         19.0          26.0   \n",
       "3          NE           24.0         SE  ...         11.0           9.0   \n",
       "4           W           41.0        ENE  ...          7.0          20.0   \n",
       "\n",
       "   Humidity9am  Humidity3pm  Pressure9am  Pressure3pm  Cloud9am  Cloud3pm  \\\n",
       "0         71.0         22.0       1007.7       1007.1       8.0       NaN   \n",
       "1         44.0         25.0       1010.6       1007.8       NaN       NaN   \n",
       "2         38.0         30.0       1007.6       1008.7       NaN       2.0   \n",
       "3         45.0         16.0       1017.6       1012.8       NaN       NaN   \n",
       "4         82.0         33.0       1010.8       1006.0       7.0       8.0   \n",
       "\n",
       "   Temp9am  Temp3pm  \n",
       "0     16.9     21.8  \n",
       "1     17.2     24.3  \n",
       "2     21.0     23.2  \n",
       "3     18.1     26.5  \n",
       "4     17.8     29.7  \n",
       "\n",
       "[5 rows x 21 columns]"
      ]
     },
     "execution_count": 8,
     "metadata": {},
     "output_type": "execute_result"
    }
   ],
   "source": [
    "X.head()"
   ]
  },
  {
   "cell_type": "code",
   "execution_count": 9,
   "metadata": {},
   "outputs": [
    {
     "data": {
      "text/plain": [
       "No     110316\n",
       "Yes     31877\n",
       "Name: RainTomorrow, dtype: int64"
      ]
     },
     "execution_count": 9,
     "metadata": {},
     "output_type": "execute_result"
    }
   ],
   "source": [
    "#是否有样本不平衡问题？\n",
    "Y.value_counts()"
   ]
  },
  {
   "cell_type": "code",
   "execution_count": 10,
   "metadata": {},
   "outputs": [],
   "source": [
    "#将标签编码\n",
    "from sklearn.preprocessing import LabelEncoder #标签专用\n",
    "Y = LabelEncoder().fit_transform(Y) #允许一维数据的输入的\n",
    "#认得了：有两类，YES和NO，YES是1，NO是0"
   ]
  },
  {
   "cell_type": "code",
   "execution_count": 11,
   "metadata": {
    "scrolled": true
   },
   "outputs": [
    {
     "data": {
      "text/plain": [
       "array([0, 0, 0, ..., 0, 0, 0])"
      ]
     },
     "execution_count": 11,
     "metadata": {},
     "output_type": "execute_result"
    }
   ],
   "source": [
    "Y"
   ]
  },
  {
   "cell_type": "code",
   "execution_count": 12,
   "metadata": {},
   "outputs": [
    {
     "data": {
      "text/plain": [
       "0    110316\n",
       "1     31877\n",
       "Name: 0, dtype: int64"
      ]
     },
     "execution_count": 12,
     "metadata": {},
     "output_type": "execute_result"
    }
   ],
   "source": [
    "pd.DataFrame(Y).iloc[:,0].value_counts()"
   ]
  },
  {
   "cell_type": "code",
   "execution_count": 13,
   "metadata": {},
   "outputs": [
    {
     "data": {
      "text/plain": [
       "array([[<matplotlib.axes._subplots.AxesSubplot object at 0x000000000EBF4DC8>]],\n",
       "      dtype=object)"
      ]
     },
     "execution_count": 13,
     "metadata": {},
     "output_type": "execute_result"
    },
    {
     "data": {
      "image/png": "[encoded data removed]",
      "text/plain": [
       "<Figure size 432x288 with 1 Axes>"
      ]
     },
     "metadata": {
      "needs_background": "light"
     },
     "output_type": "display_data"
    }
   ],
   "source": [
    "pd.DataFrame(Y).hist()"
   ]
  },
  {
   "cell_type": "markdown",
   "metadata": {},
   "source": [
    "## 三、探索特征，处理特征矩阵"
   ]
  },
  {
   "cell_type": "code",
   "execution_count": 14,
   "metadata": {},
   "outputs": [
    {
     "data": {
      "text/html": [
       "<div>\n",
       "<style scoped>\n",
       "    .dataframe tbody tr th:only-of-type {\n",
       "        vertical-align: middle;\n",
       "    }\n",
       "\n",
       "    .dataframe tbody tr th {\n",
       "        vertical-align: top;\n",
       "    }\n",
       "\n",
       "    .dataframe thead th {\n",
       "        text-align: right;\n",
       "    }\n",
       "</style>\n",
       "<table border=\"1\" class=\"dataframe\">\n",
       "  <thead>\n",
       "    <tr style=\"text-align: right;\">\n",
       "      <th></th>\n",
       "      <th>count</th>\n",
       "      <th>mean</th>\n",
       "      <th>std</th>\n",
       "      <th>min</th>\n",
       "      <th>1%</th>\n",
       "      <th>5%</th>\n",
       "      <th>10%</th>\n",
       "      <th>25%</th>\n",
       "      <th>50%</th>\n",
       "      <th>75%</th>\n",
       "      <th>90%</th>\n",
       "      <th>99%</th>\n",
       "      <th>max</th>\n",
       "    </tr>\n",
       "  </thead>\n",
       "  <tbody>\n",
       "    <tr>\n",
       "      <th>MinTemp</th>\n",
       "      <td>141556.0</td>\n",
       "      <td>12.186400</td>\n",
       "      <td>6.403283</td>\n",
       "      <td>-8.5</td>\n",
       "      <td>-1.8</td>\n",
       "      <td>1.8</td>\n",
       "      <td>3.90</td>\n",
       "      <td>7.6</td>\n",
       "      <td>12.0</td>\n",
       "      <td>16.8</td>\n",
       "      <td>20.8</td>\n",
       "      <td>25.8</td>\n",
       "      <td>33.9</td>\n",
       "    </tr>\n",
       "    <tr>\n",
       "      <th>MaxTemp</th>\n",
       "      <td>141871.0</td>\n",
       "      <td>23.226784</td>\n",
       "      <td>7.117618</td>\n",
       "      <td>-4.8</td>\n",
       "      <td>9.1</td>\n",
       "      <td>12.8</td>\n",
       "      <td>14.50</td>\n",
       "      <td>17.9</td>\n",
       "      <td>22.6</td>\n",
       "      <td>28.2</td>\n",
       "      <td>32.9</td>\n",
       "      <td>40.1</td>\n",
       "      <td>48.1</td>\n",
       "    </tr>\n",
       "    <tr>\n",
       "      <th>Rainfall</th>\n",
       "      <td>140787.0</td>\n",
       "      <td>2.349974</td>\n",
       "      <td>8.465173</td>\n",
       "      <td>0.0</td>\n",
       "      <td>0.0</td>\n",
       "      <td>0.0</td>\n",
       "      <td>0.00</td>\n",
       "      <td>0.0</td>\n",
       "      <td>0.0</td>\n",
       "      <td>0.8</td>\n",
       "      <td>6.0</td>\n",
       "      <td>37.4</td>\n",
       "      <td>371.0</td>\n",
       "    </tr>\n",
       "    <tr>\n",
       "      <th>Evaporation</th>\n",
       "      <td>81350.0</td>\n",
       "      <td>5.469824</td>\n",
       "      <td>4.188537</td>\n",
       "      <td>0.0</td>\n",
       "      <td>0.4</td>\n",
       "      <td>1.0</td>\n",
       "      <td>1.40</td>\n",
       "      <td>2.6</td>\n",
       "      <td>4.8</td>\n",
       "      <td>7.4</td>\n",
       "      <td>10.2</td>\n",
       "      <td>18.4</td>\n",
       "      <td>145.0</td>\n",
       "    </tr>\n",
       "    <tr>\n",
       "      <th>Sunshine</th>\n",
       "      <td>74377.0</td>\n",
       "      <td>7.624853</td>\n",
       "      <td>3.781525</td>\n",
       "      <td>0.0</td>\n",
       "      <td>0.0</td>\n",
       "      <td>0.3</td>\n",
       "      <td>1.56</td>\n",
       "      <td>4.9</td>\n",
       "      <td>8.5</td>\n",
       "      <td>10.6</td>\n",
       "      <td>12.1</td>\n",
       "      <td>13.4</td>\n",
       "      <td>14.5</td>\n",
       "    </tr>\n",
       "    <tr>\n",
       "      <th>WindGustSpeed</th>\n",
       "      <td>132923.0</td>\n",
       "      <td>39.984292</td>\n",
       "      <td>13.588801</td>\n",
       "      <td>6.0</td>\n",
       "      <td>15.0</td>\n",
       "      <td>20.0</td>\n",
       "      <td>24.00</td>\n",
       "      <td>31.0</td>\n",
       "      <td>39.0</td>\n",
       "      <td>48.0</td>\n",
       "      <td>57.0</td>\n",
       "      <td>81.0</td>\n",
       "      <td>135.0</td>\n",
       "    </tr>\n",
       "    <tr>\n",
       "      <th>WindSpeed9am</th>\n",
       "      <td>140845.0</td>\n",
       "      <td>14.001988</td>\n",
       "      <td>8.893337</td>\n",
       "      <td>0.0</td>\n",
       "      <td>0.0</td>\n",
       "      <td>0.0</td>\n",
       "      <td>4.00</td>\n",
       "      <td>7.0</td>\n",
       "      <td>13.0</td>\n",
       "      <td>19.0</td>\n",
       "      <td>26.0</td>\n",
       "      <td>39.0</td>\n",
       "      <td>130.0</td>\n",
       "    </tr>\n",
       "    <tr>\n",
       "      <th>WindSpeed3pm</th>\n",
       "      <td>139563.0</td>\n",
       "      <td>18.637576</td>\n",
       "      <td>8.803345</td>\n",
       "      <td>0.0</td>\n",
       "      <td>2.0</td>\n",
       "      <td>6.0</td>\n",
       "      <td>9.00</td>\n",
       "      <td>13.0</td>\n",
       "      <td>19.0</td>\n",
       "      <td>24.0</td>\n",
       "      <td>30.0</td>\n",
       "      <td>43.0</td>\n",
       "      <td>87.0</td>\n",
       "    </tr>\n",
       "    <tr>\n",
       "      <th>Humidity9am</th>\n",
       "      <td>140419.0</td>\n",
       "      <td>68.843810</td>\n",
       "      <td>19.051293</td>\n",
       "      <td>0.0</td>\n",
       "      <td>17.0</td>\n",
       "      <td>34.0</td>\n",
       "      <td>44.00</td>\n",
       "      <td>57.0</td>\n",
       "      <td>70.0</td>\n",
       "      <td>83.0</td>\n",
       "      <td>94.0</td>\n",
       "      <td>100.0</td>\n",
       "      <td>100.0</td>\n",
       "    </tr>\n",
       "    <tr>\n",
       "      <th>Humidity3pm</th>\n",
       "      <td>138583.0</td>\n",
       "      <td>51.482606</td>\n",
       "      <td>20.797772</td>\n",
       "      <td>0.0</td>\n",
       "      <td>9.0</td>\n",
       "      <td>17.0</td>\n",
       "      <td>23.00</td>\n",
       "      <td>37.0</td>\n",
       "      <td>52.0</td>\n",
       "      <td>66.0</td>\n",
       "      <td>79.0</td>\n",
       "      <td>98.0</td>\n",
       "      <td>100.0</td>\n",
       "    </tr>\n",
       "    <tr>\n",
       "      <th>Pressure9am</th>\n",
       "      <td>128179.0</td>\n",
       "      <td>1017.653758</td>\n",
       "      <td>7.105476</td>\n",
       "      <td>980.5</td>\n",
       "      <td>1000.2</td>\n",
       "      <td>1006.2</td>\n",
       "      <td>1008.80</td>\n",
       "      <td>1012.9</td>\n",
       "      <td>1017.6</td>\n",
       "      <td>1022.4</td>\n",
       "      <td>1026.7</td>\n",
       "      <td>1034.0</td>\n",
       "      <td>1041.0</td>\n",
       "    </tr>\n",
       "    <tr>\n",
       "      <th>Pressure3pm</th>\n",
       "      <td>128212.0</td>\n",
       "      <td>1015.258204</td>\n",
       "      <td>7.036677</td>\n",
       "      <td>977.1</td>\n",
       "      <td>998.5</td>\n",
       "      <td>1004.0</td>\n",
       "      <td>1006.40</td>\n",
       "      <td>1010.4</td>\n",
       "      <td>1015.2</td>\n",
       "      <td>1020.0</td>\n",
       "      <td>1024.3</td>\n",
       "      <td>1031.6</td>\n",
       "      <td>1039.6</td>\n",
       "    </tr>\n",
       "    <tr>\n",
       "      <th>Cloud9am</th>\n",
       "      <td>88536.0</td>\n",
       "      <td>4.437189</td>\n",
       "      <td>2.887016</td>\n",
       "      <td>0.0</td>\n",
       "      <td>0.0</td>\n",
       "      <td>0.0</td>\n",
       "      <td>1.00</td>\n",
       "      <td>1.0</td>\n",
       "      <td>5.0</td>\n",
       "      <td>7.0</td>\n",
       "      <td>8.0</td>\n",
       "      <td>8.0</td>\n",
       "      <td>9.0</td>\n",
       "    </tr>\n",
       "    <tr>\n",
       "      <th>Cloud3pm</th>\n",
       "      <td>85099.0</td>\n",
       "      <td>4.503167</td>\n",
       "      <td>2.720633</td>\n",
       "      <td>0.0</td>\n",
       "      <td>0.0</td>\n",
       "      <td>0.0</td>\n",
       "      <td>1.00</td>\n",
       "      <td>2.0</td>\n",
       "      <td>5.0</td>\n",
       "      <td>7.0</td>\n",
       "      <td>8.0</td>\n",
       "      <td>8.0</td>\n",
       "      <td>9.0</td>\n",
       "    </tr>\n",
       "    <tr>\n",
       "      <th>Temp9am</th>\n",
       "      <td>141289.0</td>\n",
       "      <td>16.987509</td>\n",
       "      <td>6.492838</td>\n",
       "      <td>-7.2</td>\n",
       "      <td>2.6</td>\n",
       "      <td>6.9</td>\n",
       "      <td>8.90</td>\n",
       "      <td>12.3</td>\n",
       "      <td>16.7</td>\n",
       "      <td>21.6</td>\n",
       "      <td>25.9</td>\n",
       "      <td>31.2</td>\n",
       "      <td>40.2</td>\n",
       "    </tr>\n",
       "    <tr>\n",
       "      <th>Temp3pm</th>\n",
       "      <td>139467.0</td>\n",
       "      <td>21.687235</td>\n",
       "      <td>6.937594</td>\n",
       "      <td>-5.4</td>\n",
       "      <td>7.7</td>\n",
       "      <td>11.5</td>\n",
       "      <td>13.20</td>\n",
       "      <td>16.6</td>\n",
       "      <td>21.1</td>\n",
       "      <td>26.4</td>\n",
       "      <td>31.2</td>\n",
       "      <td>38.5</td>\n",
       "      <td>46.7</td>\n",
       "    </tr>\n",
       "  </tbody>\n",
       "</table>\n",
       "</div>"
      ],
      "text/plain": [
       "                  count         mean        std    min      1%      5%  \\\n",
       "MinTemp        141556.0    12.186400   6.403283   -8.5    -1.8     1.8   \n",
       "MaxTemp        141871.0    23.226784   7.117618   -4.8     9.1    12.8   \n",
       "Rainfall       140787.0     2.349974   8.465173    0.0     0.0     0.0   \n",
       "Evaporation     81350.0     5.469824   4.188537    0.0     0.4     1.0   \n",
       "Sunshine        74377.0     7.624853   3.781525    0.0     0.0     0.3   \n",
       "WindGustSpeed  132923.0    39.984292  13.588801    6.0    15.0    20.0   \n",
       "WindSpeed9am   140845.0    14.001988   8.893337    0.0     0.0     0.0   \n",
       "WindSpeed3pm   139563.0    18.637576   8.803345    0.0     2.0     6.0   \n",
       "Humidity9am    140419.0    68.843810  19.051293    0.0    17.0    34.0   \n",
       "Humidity3pm    138583.0    51.482606  20.797772    0.0     9.0    17.0   \n",
       "Pressure9am    128179.0  1017.653758   7.105476  980.5  1000.2  1006.2   \n",
       "Pressure3pm    128212.0  1015.258204   7.036677  977.1   998.5  1004.0   \n",
       "Cloud9am        88536.0     4.437189   2.887016    0.0     0.0     0.0   \n",
       "Cloud3pm        85099.0     4.503167   2.720633    0.0     0.0     0.0   \n",
       "Temp9am        141289.0    16.987509   6.492838   -7.2     2.6     6.9   \n",
       "Temp3pm        139467.0    21.687235   6.937594   -5.4     7.7    11.5   \n",
       "\n",
       "                   10%     25%     50%     75%     90%     99%     max  \n",
       "MinTemp           3.90     7.6    12.0    16.8    20.8    25.8    33.9  \n",
       "MaxTemp          14.50    17.9    22.6    28.2    32.9    40.1    48.1  \n",
       "Rainfall          0.00     0.0     0.0     0.8     6.0    37.4   371.0  \n",
       "Evaporation       1.40     2.6     4.8     7.4    10.2    18.4   145.0  \n",
       "Sunshine          1.56     4.9     8.5    10.6    12.1    13.4    14.5  \n",
       "WindGustSpeed    24.00    31.0    39.0    48.0    57.0    81.0   135.0  \n",
       "WindSpeed9am      4.00     7.0    13.0    19.0    26.0    39.0   130.0  \n",
       "WindSpeed3pm      9.00    13.0    19.0    24.0    30.0    43.0    87.0  \n",
       "Humidity9am      44.00    57.0    70.0    83.0    94.0   100.0   100.0  \n",
       "Humidity3pm      23.00    37.0    52.0    66.0    79.0    98.0   100.0  \n",
       "Pressure9am    1008.80  1012.9  1017.6  1022.4  1026.7  1034.0  1041.0  \n",
       "Pressure3pm    1006.40  1010.4  1015.2  1020.0  1024.3  1031.6  1039.6  \n",
       "Cloud9am          1.00     1.0     5.0     7.0     8.0     8.0     9.0  \n",
       "Cloud3pm          1.00     2.0     5.0     7.0     8.0     8.0     9.0  \n",
       "Temp9am           8.90    12.3    16.7    21.6    25.9    31.2    40.2  \n",
       "Temp3pm          13.20    16.6    21.1    26.4    31.2    38.5    46.7  "
      ]
     },
     "execution_count": 14,
     "metadata": {},
     "output_type": "execute_result"
    }
   ],
   "source": [
    "#描述性统计\n",
    "X.describe([0.01,0.05,0.1,0.25,0.5,0.75,0.9,0.99]).T"
   ]
  },
  {
   "cell_type": "markdown",
   "metadata": {},
   "source": [
    "### 1. 数据可视化探索特征"
   ]
  },
  {
   "cell_type": "code",
   "execution_count": 15,
   "metadata": {
    "scrolled": false
   },
   "outputs": [],
   "source": [
    "# X.plot.line(subplots=True,figsize=(20,20))"
   ]
  },
  {
   "cell_type": "code",
   "execution_count": 16,
   "metadata": {},
   "outputs": [
    {
     "data": {
      "text/plain": [
       "<matplotlib.axes._subplots.AxesSubplot at 0xf304c88>"
      ]
     },
     "execution_count": 16,
     "metadata": {},
     "output_type": "execute_result"
    },
    {
     "data": {
      "image/png": "[encoded data removed]",
      "text/plain": [
       "<Figure size 1440x1440 with 1 Axes>"
      ]
     },
     "metadata": {
      "needs_background": "light"
     },
     "output_type": "display_data"
    }
   ],
   "source": [
    "#利用箱线图来查看数据得情况，有没有异常值\n",
    "X.boxplot(figsize=(20,20))"
   ]
  },
  {
   "cell_type": "code",
   "execution_count": 17,
   "metadata": {},
   "outputs": [
    {
     "data": {
      "text/plain": [
       "array([[<matplotlib.axes._subplots.AxesSubplot object at 0x000000000FB95708>,\n",
       "        <matplotlib.axes._subplots.AxesSubplot object at 0x000000000FB95D08>,\n",
       "        <matplotlib.axes._subplots.AxesSubplot object at 0x000000000F3B2E48>,\n",
       "        <matplotlib.axes._subplots.AxesSubplot object at 0x000000000F3E3788>],\n",
       "       [<matplotlib.axes._subplots.AxesSubplot object at 0x000000000F41D888>,\n",
       "        <matplotlib.axes._subplots.AxesSubplot object at 0x000000000F455988>,\n",
       "        <matplotlib.axes._subplots.AxesSubplot object at 0x000000000F48EA88>,\n",
       "        <matplotlib.axes._subplots.AxesSubplot object at 0x000000000F4C7B88>],\n",
       "       [<matplotlib.axes._subplots.AxesSubplot object at 0x000000000F4D2788>,\n",
       "        <matplotlib.axes._subplots.AxesSubplot object at 0x000000000F50B948>,\n",
       "        <matplotlib.axes._subplots.AxesSubplot object at 0x000000000F56FEC8>,\n",
       "        <matplotlib.axes._subplots.AxesSubplot object at 0x000000000F5A8F88>],\n",
       "       [<matplotlib.axes._subplots.AxesSubplot object at 0x000000000F5E6108>,\n",
       "        <matplotlib.axes._subplots.AxesSubplot object at 0x000000000F620248>,\n",
       "        <matplotlib.axes._subplots.AxesSubplot object at 0x000000000F658348>,\n",
       "        <matplotlib.axes._subplots.AxesSubplot object at 0x000000000F692448>]],\n",
       "      dtype=object)"
      ]
     },
     "execution_count": 17,
     "metadata": {},
     "output_type": "execute_result"
    },
    {
     "data": {
      "image/png": "[encoded data removed]",
      "text/plain": [
       "<Figure size 1440x1440 with 16 Axes>"
      ]
     },
     "metadata": {
      "needs_background": "light"
     },
     "output_type": "display_data"
    }
   ],
   "source": [
    "#查看数据分布状态\n",
    "X.hist(bins=20,figsize=(20,20))"
   ]
  },
  {
   "cell_type": "markdown",
   "metadata": {},
   "source": [
    "通过箱线图和分布图可以发现\"Rainfall\",\"Evaporation\"存在异常值较多，后续需要处理。\n",
    "\n",
    "针对于异常值如何处理一般有三种思路：\n",
    "\n",
    "1.针对异常值较少，不重要可采取直接删除；\n",
    "\n",
    "2.将异常值当成缺失值处理，采用缺失值的各种处理方法；\n",
    "\n",
    "3.将异常值单独取出做分析。"
   ]
  },
  {
   "cell_type": "markdown",
   "metadata": {},
   "source": [
    "### 2. 处理困难特征：日期\n"
   ]
  },
  {
   "cell_type": "code",
   "execution_count": 18,
   "metadata": {
    "scrolled": true
   },
   "outputs": [
    {
     "data": {
      "text/plain": [
       "2013-05-30    49\n",
       "2014-06-10    49\n",
       "2016-05-22    49\n",
       "2017-06-10    49\n",
       "2013-04-01    49\n",
       "              ..\n",
       "2007-12-31     1\n",
       "2008-01-23     1\n",
       "2008-01-01     1\n",
       "2007-12-01     1\n",
       "2007-11-18     1\n",
       "Name: Date, Length: 3436, dtype: int64"
      ]
     },
     "execution_count": 18,
     "metadata": {},
     "output_type": "execute_result"
    }
   ],
   "source": [
    "X[\"Date\"].value_counts()"
   ]
  },
  {
   "cell_type": "markdown",
   "metadata": {},
   "source": [
    "### 这里首先要思考一个问题：\n",
    "\n",
    "**我们采集数据的日期是否和我们的天气有关系呢？**\n",
    "\n",
    "**分析：**\n",
    "    \n",
    "\n",
    "    如果我们把它当作分类型变量处理，类别太多，有2141类，如果换成数值型，会被直接当成连续型变量，如果做成哑变量，我们特征的维度会爆炸。\n",
    "    \n",
    "    如果我们的思考简单一些，我们可以直接删除日期这个特征。首先它不是一个直接影响我们标签的特征，并且要处理日期其实是非常困难的。如果大家认可这种思路，那可以直接运行下面的代码来删除我们的日期\n"
   ]
  },
  {
   "cell_type": "code",
   "execution_count": 19,
   "metadata": {},
   "outputs": [],
   "source": [
    "#直接删除日期\n",
    "# X = Xtrain.drop([\"Date\"],axis=1)"
   ]
  },
  {
   "cell_type": "markdown",
   "metadata": {},
   "source": [
    "其实我们可以想到，日期必然是和我们的结果有关的，它会从两个角度来影响我们的标签：\n",
    "\n",
    "    1.昨天的天气可能会影响今天的天气，而今天的天气又可能会影响明天的天气。也就是说，随着日期的逐渐改变，样本是会受到上一个样本的影响的。特征中有一列叫做“Rainfall\"，这是表示当天的降雨量。凭常识我们认为，今天是否下雨，应该会影响明天是否下雨，比如有的地方可能就有这样的气候，一旦下雨就连着下很多天，也有可能有的地方的气候就是一场暴雨来得快去的快。因此，我们可以将时间对气候的连续影响，转换为”今天是否下雨“这个特征。"
   ]
  },
  {
   "cell_type": "code",
   "execution_count": 20,
   "metadata": {},
   "outputs": [
    {
     "data": {
      "text/plain": [
       "0      0.6\n",
       "1      0.0\n",
       "2      0.0\n",
       "3      0.0\n",
       "4      1.0\n",
       "5      0.2\n",
       "6      0.0\n",
       "7      0.0\n",
       "8      0.0\n",
       "9      1.4\n",
       "10     0.0\n",
       "11     2.2\n",
       "12    15.6\n",
       "13     3.6\n",
       "14     NaN\n",
       "15     0.0\n",
       "16    16.8\n",
       "17    10.6\n",
       "18     0.0\n",
       "19     0.0\n",
       "Name: Rainfall, dtype: float64"
      ]
     },
     "execution_count": 20,
     "metadata": {},
     "output_type": "execute_result"
    }
   ],
   "source": [
    "X[\"Rainfall\"].head(20)"
   ]
  },
  {
   "cell_type": "code",
   "execution_count": 21,
   "metadata": {},
   "outputs": [
    {
     "data": {
      "text/plain": [
       "1406"
      ]
     },
     "execution_count": 21,
     "metadata": {},
     "output_type": "execute_result"
    }
   ],
   "source": [
    "#查看空值\n",
    "X[\"Rainfall\"].isnull().sum()"
   ]
  },
  {
   "cell_type": "code",
   "execution_count": 22,
   "metadata": {},
   "outputs": [],
   "source": [
    "#构造特诊今天是否下雨“RainToday”。\n",
    "X.loc[X[\"Rainfall\"] >= 1,\"RainToday\"] = \"Yes\"\n",
    "X.loc[X[\"Rainfall\"] < 1,\"RainToday\"] = \"No\"\n",
    "X.loc[X[\"Rainfall\"] == np.nan,\"RainToday\"] = np.nan"
   ]
  },
  {
   "cell_type": "code",
   "execution_count": 23,
   "metadata": {},
   "outputs": [
    {
     "data": {
      "text/plain": [
       "No     107585\n",
       "Yes     33202\n",
       "Name: RainToday, dtype: int64"
      ]
     },
     "execution_count": 23,
     "metadata": {},
     "output_type": "execute_result"
    }
   ],
   "source": [
    "X[\"RainToday\"].value_counts()"
   ]
  },
  {
   "cell_type": "markdown",
   "metadata": {},
   "source": [
    "    2.对于我们而言，日期本身并不影响天气，但是日期所在的月份和季节其实是影响天气的，如果任选梅雨季节的某一天，那明天下雨的可能性必然比非梅雨季节的那一天要大。虽然我们无法让机器学习体会不同月份是什么季节，但是我们可以对不同月份进行分组，算法可以通过训练感受到，“这个月或者这个季节更容易下雨”。因此，我们可以将月份或者季节提取出来，作为一个特征使用，而舍弃掉具体的日期。如此，我们又可以创造第二个特征，月份\"Month\"。"
   ]
  },
  {
   "cell_type": "code",
   "execution_count": 24,
   "metadata": {},
   "outputs": [
    {
     "data": {
      "text/plain": [
       "0         2008-12-01\n",
       "1         2008-12-02\n",
       "2         2008-12-03\n",
       "3         2008-12-04\n",
       "4         2008-12-05\n",
       "             ...    \n",
       "142188    2017-06-20\n",
       "142189    2017-06-21\n",
       "142190    2017-06-22\n",
       "142191    2017-06-23\n",
       "142192    2017-06-24\n",
       "Name: Date, Length: 142193, dtype: object"
      ]
     },
     "execution_count": 24,
     "metadata": {},
     "output_type": "execute_result"
    }
   ],
   "source": [
    "X[\"Date\"]"
   ]
  },
  {
   "cell_type": "code",
   "execution_count": 25,
   "metadata": {},
   "outputs": [
    {
     "data": {
      "text/plain": [
       "12"
      ]
     },
     "execution_count": 25,
     "metadata": {},
     "output_type": "execute_result"
    }
   ],
   "source": [
    "int(X.loc[0,\"Date\"].split(\"-\")[1]) #提取出月份"
   ]
  },
  {
   "cell_type": "code",
   "execution_count": 26,
   "metadata": {},
   "outputs": [],
   "source": [
    "#apply是对dataframe上的某一列进行处理的一个函数\n",
    "#lambda x匿名函数，请在dataframe上这一列中的每一行帮我执行冒号后的命令\n",
    "X[\"Date\"] = X[\"Date\"].apply(lambda x:int(x.split(\"-\")[1]))\n",
    "\n",
    "#替换完毕后，我们需要修改列的名称,可以用rename来修改单个列名的函数\n",
    "X = X.rename(columns={\"Date\":\"Month\"})"
   ]
  },
  {
   "cell_type": "code",
   "execution_count": 27,
   "metadata": {},
   "outputs": [
    {
     "data": {
      "text/plain": [
       "5     13055\n",
       "3     13036\n",
       "1     12921\n",
       "6     12389\n",
       "10    11804\n",
       "7     11779\n",
       "8     11762\n",
       "11    11461\n",
       "9     11345\n",
       "4     11306\n",
       "12    10810\n",
       "2     10525\n",
       "Name: Month, dtype: int64"
      ]
     },
     "execution_count": 27,
     "metadata": {},
     "output_type": "execute_result"
    }
   ],
   "source": [
    "X[\"Month\"].value_counts()"
   ]
  },
  {
   "cell_type": "markdown",
   "metadata": {},
   "source": [
    "**通过时间，我们处理出两个新特征，“今天是否下雨”和“月份”。**"
   ]
  },
  {
   "cell_type": "markdown",
   "metadata": {},
   "source": [
    "### 3. 处理困难特征：地点（尴尬……目前我还处理不了）\n",
    "\n",
    "常识上来说，我们认为地点肯定是对明天是否会下雨存在影响的。比如说，如果其他信息都不给出，我们只猜测，“杭州明天是否会下雨”和”北京明天是否会下雨“，我一定会猜测杭州会下雨，而北京不会。"
   ]
  },
  {
   "cell_type": "code",
   "execution_count": 28,
   "metadata": {},
   "outputs": [],
   "source": [
    "#由于处理不了地点这个特诊，我只能忍痛把他丢掉"
   ]
  },
  {
   "cell_type": "code",
   "execution_count": 29,
   "metadata": {},
   "outputs": [],
   "source": [
    "X = X.drop([\"Location\"],axis=1)"
   ]
  },
  {
   "attachments": {
    "image.png": {
     "image/png": "[encoded data removed]"
    }
   },
   "cell_type": "markdown",
   "metadata": {},
   "source": [
    "### 4. 处理分类型变量缺失值\n",
    "\n",
    "    由于我们的特征矩阵由两种类型的数据组成：分类型和连续型，因此我们必须对两种数据采用不同的填补缺失值策略。传统地，如果是分类型特征，我们则采用众数进行填补。如果是连续型特征，我们则采用均值来填补。\n",
    "    \n",
    "`from sklearn.impute import SimpleImputer`\n",
    "\n",
    "![image.png](attachment:image.png)\n",
    "    "
   ]
  },
  {
   "cell_type": "code",
   "execution_count": 30,
   "metadata": {
    "scrolled": false
   },
   "outputs": [
    {
     "name": "stdout",
     "output_type": "stream",
     "text": [
      "<class 'pandas.core.frame.DataFrame'>\n",
      "Int64Index: 142193 entries, 0 to 142192\n",
      "Data columns (total 21 columns):\n",
      " #   Column         Non-Null Count   Dtype  \n",
      "---  ------         --------------   -----  \n",
      " 0   Month          142193 non-null  int64  \n",
      " 1   MinTemp        141556 non-null  float64\n",
      " 2   MaxTemp        141871 non-null  float64\n",
      " 3   Rainfall       140787 non-null  float64\n",
      " 4   Evaporation    81350 non-null   float64\n",
      " 5   Sunshine       74377 non-null   float64\n",
      " 6   WindGustDir    132863 non-null  object \n",
      " 7   WindGustSpeed  132923 non-null  float64\n",
      " 8   WindDir9am     132180 non-null  object \n",
      " 9   WindDir3pm     138415 non-null  object \n",
      " 10  WindSpeed9am   140845 non-null  float64\n",
      " 11  WindSpeed3pm   139563 non-null  float64\n",
      " 12  Humidity9am    140419 non-null  float64\n",
      " 13  Humidity3pm    138583 non-null  float64\n",
      " 14  Pressure9am    128179 non-null  float64\n",
      " 15  Pressure3pm    128212 non-null  float64\n",
      " 16  Cloud9am       88536 non-null   float64\n",
      " 17  Cloud3pm       85099 non-null   float64\n",
      " 18  Temp9am        141289 non-null  float64\n",
      " 19  Temp3pm        139467 non-null  float64\n",
      " 20  RainToday      140787 non-null  object \n",
      "dtypes: float64(16), int64(1), object(4)\n",
      "memory usage: 23.9+ MB\n"
     ]
    }
   ],
   "source": [
    "X.info()"
   ]
  },
  {
   "cell_type": "markdown",
   "metadata": {},
   "source": [
    "**划分数据类型**\n",
    "\n",
    "    1.连续型变量\n",
    "    2.有序性变量\n",
    "    3.名义型变量"
   ]
  },
  {
   "cell_type": "code",
   "execution_count": 31,
   "metadata": {},
   "outputs": [
    {
     "data": {
      "text/plain": [
       "['WindGustDir', 'WindDir9am', 'WindDir3pm', 'RainToday']"
      ]
     },
     "execution_count": 31,
     "metadata": {},
     "output_type": "execute_result"
    }
   ],
   "source": [
    "#首先划分分类型变量和连续性变量\n",
    "cate = X.columns[X.dtypes == \"object\"].tolist()\n",
    "cate"
   ]
  },
  {
   "cell_type": "code",
   "execution_count": 32,
   "metadata": {},
   "outputs": [
    {
     "data": {
      "text/plain": [
       "['WindGustDir',\n",
       " 'WindDir9am',\n",
       " 'WindDir3pm',\n",
       " 'RainToday',\n",
       " 'Cloud9am',\n",
       " 'Cloud3pm']"
      ]
     },
     "execution_count": 32,
     "metadata": {},
     "output_type": "execute_result"
    }
   ],
   "source": [
    "#除了特征类型为\"object\"的特征们，还有虽然用数字表示，但是本质为分类型特征的云层遮蔽程度\n",
    "cloud = [\"Cloud9am\",\"Cloud3pm\"]\n",
    "cate = cate + cloud\n",
    "cate"
   ]
  },
  {
   "cell_type": "code",
   "execution_count": 33,
   "metadata": {},
   "outputs": [],
   "source": [
    "# #划分出连续性数据\n",
    "# cont = X.columns[X.dtypes == \"float\" or \"int\"].tolist()"
   ]
  },
  {
   "cell_type": "code",
   "execution_count": 34,
   "metadata": {},
   "outputs": [],
   "source": [
    "#对于分类型特征，我们使用众数来进行填补,这里你也可以使用pandas来填充\n",
    "from sklearn.impute import SimpleImputer #0.20, conda, pip\n",
    "\n",
    "si = SimpleImputer(missing_values=np.nan,strategy=\"most_frequent\")\n",
    "#注意，我们使用训练集数据来训练我们的填补器，本质是在生成训练集中的众数\n",
    "X.loc[:,cate] = si.fit_transform(X.loc[:,cate])"
   ]
  },
  {
   "cell_type": "code",
   "execution_count": 35,
   "metadata": {},
   "outputs": [
    {
     "data": {
      "text/plain": [
       "WindGustDir    0.0\n",
       "WindDir9am     0.0\n",
       "WindDir3pm     0.0\n",
       "RainToday      0.0\n",
       "Cloud9am       0.0\n",
       "Cloud3pm       0.0\n",
       "dtype: float64"
      ]
     },
     "execution_count": 35,
     "metadata": {},
     "output_type": "execute_result"
    }
   ],
   "source": [
    "#查看分类型特征是否依然存在缺失值\n",
    "X.loc[:,cate].isnull().mean()"
   ]
  },
  {
   "cell_type": "markdown",
   "metadata": {},
   "source": [
    "### 5. 将分类型变量编码\n",
    "\n",
    "    在机器学习中，大多数算法，譬如逻辑回归，支持向量机SVM，k近邻算法等都只能够处理数值型数据，不能处理文字，在sklearn当中，除了专用来处理文字的算法，其他算法在fit的时候全部要求输入数组或矩阵，也不能够导入文字型数据（其实手写决策树和朴素贝叶斯可以处理文字，但是sklearn中规定必须导入数值型）。然而在现实中，许多标签和特征在数据收集完毕的时候，都不是以数字来表现的。比如说，学历的取值可以是[\"小学\"，“初中”，“高中”，\"大学\"]，付费方式可能包含[\"支付宝\"，“现金”，“微信”]等等。在这种情况下，为了让数据适应算法和库，我们必须将数据进行编码，即是说，将文字型数据转换为数值型。\n",
    "    \n",
    "    \n",
    "    \n",
    " **补充**\n",
    " \n",
    " \n",
    "| 数据类型 | 数据名称 |数学含义 |描述 |举例|可用操作|\n",
    ":----:|:---:|:---:|:--:|:---:|:---:|\n",
    "| 离散变量，定性 |名义|=，≠ |名义变量就是不同的名字，是用来告诉我们，这两个数据是否相同的| 邮编、性别、职工号，颜色等 | 取众数、信息熵、情形分析表或列联表、相关性分析、卡方检验\n",
    "|离散变量，定性 |有序 |<,> |有序变量为数据的相对大小提供信息，告诉我们数据的顺序，但数据之间大小的间隔不是具有固定意义的，因此有序变量不能加减 |收入高低、学历、硬度、强度等 |中位数、分位数、非参数相关性分析、测量系统分析、符号检验\n",
    "|连续变量，定量|有距|+，-|有距变量之间的间隔是有固定意义的，可以加减，不能乘除|日期、以摄氏度或华氏度为量纲的温度|均值、标准差、皮尔逊相关系数、t检验和F检验\n",
    "|连续变量，定量|比率|+，-，*，/|可以加减乘除|收入、年龄、质量、长度、数量等|平均、百分数、变化量等\n",
    "\n"
   ]
  },
  {
   "cell_type": "markdown",
   "metadata": {},
   "source": [
    "**有序性分类变量处理**\n",
    "\n",
    "包含：Cloud9am Cloud3pm"
   ]
  },
  {
   "cell_type": "code",
   "execution_count": 36,
   "metadata": {},
   "outputs": [],
   "source": [
    "# order = [\"Cloud9am\",\"Cloud3pm\"]"
   ]
  },
  {
   "cell_type": "code",
   "execution_count": 37,
   "metadata": {},
   "outputs": [],
   "source": [
    "#将所有有序分类型变量编码为数字，一个类别是一个数字\n",
    "from sklearn.preprocessing import OrdinalEncoder\n",
    "oe = OrdinalEncoder()\n",
    "\n",
    "#进行fit\n",
    "X.loc[:,cate] = oe.fit_transform(X.loc[:,cate])\n"
   ]
  },
  {
   "cell_type": "code",
   "execution_count": 38,
   "metadata": {},
   "outputs": [
    {
     "data": {
      "text/html": [
       "<div>\n",
       "<style scoped>\n",
       "    .dataframe tbody tr th:only-of-type {\n",
       "        vertical-align: middle;\n",
       "    }\n",
       "\n",
       "    .dataframe tbody tr th {\n",
       "        vertical-align: top;\n",
       "    }\n",
       "\n",
       "    .dataframe thead th {\n",
       "        text-align: right;\n",
       "    }\n",
       "</style>\n",
       "<table border=\"1\" class=\"dataframe\">\n",
       "  <thead>\n",
       "    <tr style=\"text-align: right;\">\n",
       "      <th></th>\n",
       "      <th>WindGustDir</th>\n",
       "      <th>WindDir9am</th>\n",
       "      <th>WindDir3pm</th>\n",
       "      <th>RainToday</th>\n",
       "      <th>Cloud9am</th>\n",
       "      <th>Cloud3pm</th>\n",
       "    </tr>\n",
       "  </thead>\n",
       "  <tbody>\n",
       "    <tr>\n",
       "      <th>0</th>\n",
       "      <td>13.0</td>\n",
       "      <td>13.0</td>\n",
       "      <td>14.0</td>\n",
       "      <td>0.0</td>\n",
       "      <td>8.0</td>\n",
       "      <td>7.0</td>\n",
       "    </tr>\n",
       "    <tr>\n",
       "      <th>1</th>\n",
       "      <td>14.0</td>\n",
       "      <td>6.0</td>\n",
       "      <td>15.0</td>\n",
       "      <td>0.0</td>\n",
       "      <td>7.0</td>\n",
       "      <td>7.0</td>\n",
       "    </tr>\n",
       "    <tr>\n",
       "      <th>2</th>\n",
       "      <td>15.0</td>\n",
       "      <td>13.0</td>\n",
       "      <td>15.0</td>\n",
       "      <td>0.0</td>\n",
       "      <td>7.0</td>\n",
       "      <td>2.0</td>\n",
       "    </tr>\n",
       "    <tr>\n",
       "      <th>3</th>\n",
       "      <td>4.0</td>\n",
       "      <td>9.0</td>\n",
       "      <td>0.0</td>\n",
       "      <td>0.0</td>\n",
       "      <td>7.0</td>\n",
       "      <td>7.0</td>\n",
       "    </tr>\n",
       "    <tr>\n",
       "      <th>4</th>\n",
       "      <td>13.0</td>\n",
       "      <td>1.0</td>\n",
       "      <td>7.0</td>\n",
       "      <td>1.0</td>\n",
       "      <td>7.0</td>\n",
       "      <td>8.0</td>\n",
       "    </tr>\n",
       "  </tbody>\n",
       "</table>\n",
       "</div>"
      ],
      "text/plain": [
       "   WindGustDir  WindDir9am  WindDir3pm  RainToday  Cloud9am  Cloud3pm\n",
       "0         13.0        13.0        14.0        0.0       8.0       7.0\n",
       "1         14.0         6.0        15.0        0.0       7.0       7.0\n",
       "2         15.0        13.0        15.0        0.0       7.0       2.0\n",
       "3          4.0         9.0         0.0        0.0       7.0       7.0\n",
       "4         13.0         1.0         7.0        1.0       7.0       8.0"
      ]
     },
     "execution_count": 38,
     "metadata": {},
     "output_type": "execute_result"
    }
   ],
   "source": [
    "X.loc[:,cate].head()"
   ]
  },
  {
   "cell_type": "code",
   "execution_count": 39,
   "metadata": {},
   "outputs": [
    {
     "name": "stdout",
     "output_type": "stream",
     "text": [
      "<class 'pandas.core.frame.DataFrame'>\n",
      "Int64Index: 142193 entries, 0 to 142192\n",
      "Data columns (total 6 columns):\n",
      " #   Column       Non-Null Count   Dtype  \n",
      "---  ------       --------------   -----  \n",
      " 0   WindGustDir  142193 non-null  float64\n",
      " 1   WindDir9am   142193 non-null  float64\n",
      " 2   WindDir3pm   142193 non-null  float64\n",
      " 3   RainToday    142193 non-null  float64\n",
      " 4   Cloud9am     142193 non-null  float64\n",
      " 5   Cloud3pm     142193 non-null  float64\n",
      "dtypes: float64(6)\n",
      "memory usage: 7.6 MB\n"
     ]
    }
   ],
   "source": [
    "X.loc[:,cate].info()"
   ]
  },
  {
   "cell_type": "code",
   "execution_count": 40,
   "metadata": {},
   "outputs": [
    {
     "data": {
      "text/plain": [
       "['Month',\n",
       " 'MinTemp',\n",
       " 'MaxTemp',\n",
       " 'Rainfall',\n",
       " 'Evaporation',\n",
       " 'Sunshine',\n",
       " 'WindGustDir',\n",
       " 'WindGustSpeed',\n",
       " 'WindDir9am',\n",
       " 'WindDir3pm',\n",
       " 'WindSpeed9am',\n",
       " 'WindSpeed3pm',\n",
       " 'Humidity9am',\n",
       " 'Humidity3pm',\n",
       " 'Pressure9am',\n",
       " 'Pressure3pm',\n",
       " 'Cloud9am',\n",
       " 'Cloud3pm',\n",
       " 'Temp9am',\n",
       " 'Temp3pm',\n",
       " 'RainToday']"
      ]
     },
     "execution_count": 40,
     "metadata": {},
     "output_type": "execute_result"
    }
   ],
   "source": [
    "col = X.columns.tolist()\n",
    "col"
   ]
  },
  {
   "cell_type": "markdown",
   "metadata": {},
   "source": [
    "**名义型分类变量**\n",
    "\n",
    "    类别OrdinalEncoder可以用来处理有序变量，但对于名义变量，我们只有使用哑变量的方式来处理，才能够尽量向算法传达最准确的信息。\n"
   ]
  },
  {
   "cell_type": "code",
   "execution_count": 41,
   "metadata": {},
   "outputs": [],
   "source": [
    "# nomi = [\"WindGustDir\",\"WindDir9am\",\"WindDir3pm\",\"RainToday\"]"
   ]
  },
  {
   "cell_type": "code",
   "execution_count": 42,
   "metadata": {},
   "outputs": [],
   "source": [
    "# X.loc[:,nomi].head()"
   ]
  },
  {
   "cell_type": "code",
   "execution_count": 43,
   "metadata": {},
   "outputs": [],
   "source": [
    "# #使用哑变量的方式来处理\n",
    "# from sklearn.preprocessing import OneHotEncoder\n",
    "# # 如果不加 toarray() 的话，输出的是稀疏的存储格式，即索引加值的形式\n",
    "# X_nomi = OneHotEncoder().fit_transform(X.loc[:,nomi]).toarray()"
   ]
  },
  {
   "cell_type": "code",
   "execution_count": 44,
   "metadata": {},
   "outputs": [],
   "source": [
    "# X_nomi = pd.DataFrame(X_nomi)"
   ]
  },
  {
   "cell_type": "code",
   "execution_count": 45,
   "metadata": {},
   "outputs": [],
   "source": [
    "# X_nomi"
   ]
  },
  {
   "cell_type": "code",
   "execution_count": 46,
   "metadata": {},
   "outputs": [],
   "source": [
    "#将编码后的特征追加在原始数据上，并将原始特征数据删除\n",
    "\n",
    "# X = pd.concat([X.drop(nomi,axis=1),X_nomi],axis=1)"
   ]
  },
  {
   "cell_type": "code",
   "execution_count": 47,
   "metadata": {
    "scrolled": true
   },
   "outputs": [],
   "source": [
    "# X.head()"
   ]
  },
  {
   "cell_type": "markdown",
   "metadata": {},
   "source": [
    "### 6. 连续型变量填补缺失值\n",
    "\n",
    "    连续型变量的缺失值由均值来进行填补。连续型变量往往已经是数字，无需进行编码转换。与分类型变量中一样，我们也是使用训练集上的均值对测试集进行填补。如果学过随机森林填补缺失值的小伙伴，可能此时会问，为什么不使用算法来进行填补呢？使用算法进行填补也是没有问题的，但在现实中，其实我们非常少用到算法来进行填补，有以下几个理由：\n",
    "    \n",
    "    1. 算法是黑箱，解释性不强。如果你是一个数据挖掘工程师，你使用算法来填补缺失值后，你不懂机器学习的老板或者同事问你的缺失值是怎么来的，你可能需要从头到尾帮他/她把随机森林解释一遍，这种效率过低的事情是不可能做的，而许多老板和上级不会接受他们无法理解的东西。\n",
    "    \n",
    "    2. 算法填补太过缓慢，运行一次森林需要有至少100棵树才能够基本保证森林的稳定性，而填补一个列就需要很长的时间。在我们并不知道森林的填补结果是好是坏的情况下，填补一个很大的数据集风险非常高，有可能需要跑好几个小时，但填补出来的结果却不怎么优秀，这明显是一个低效的方法。\n",
    "    \n",
    "    因此在现实工作时，我们往往使用易于理解的均值或者中位数来进行填补。当然了，在算法比赛中，我们可以穷尽一切我们能够想到的办法来填补缺失值以追求让模型的效果更好，不过现实中，除了模型效果之外，我们还要追求可解释性。\n"
   ]
  },
  {
   "cell_type": "code",
   "execution_count": 48,
   "metadata": {
    "scrolled": false
   },
   "outputs": [
    {
     "data": {
      "text/plain": [
       "Month            0.000000\n",
       "MinTemp          0.004480\n",
       "MaxTemp          0.002265\n",
       "Rainfall         0.009888\n",
       "Evaporation      0.427890\n",
       "Sunshine         0.476929\n",
       "WindGustDir      0.000000\n",
       "WindGustSpeed    0.065193\n",
       "WindDir9am       0.000000\n",
       "WindDir3pm       0.000000\n",
       "WindSpeed9am     0.009480\n",
       "WindSpeed3pm     0.018496\n",
       "Humidity9am      0.012476\n",
       "Humidity3pm      0.025388\n",
       "Pressure9am      0.098556\n",
       "Pressure3pm      0.098324\n",
       "Cloud9am         0.000000\n",
       "Cloud3pm         0.000000\n",
       "Temp9am          0.006358\n",
       "Temp3pm          0.019171\n",
       "RainToday        0.000000\n",
       "dtype: float64"
      ]
     },
     "execution_count": 48,
     "metadata": {},
     "output_type": "execute_result"
    }
   ],
   "source": [
    "X.isnull().mean()"
   ]
  },
  {
   "cell_type": "code",
   "execution_count": 49,
   "metadata": {},
   "outputs": [
    {
     "data": {
      "text/plain": [
       "['Month',\n",
       " 'MinTemp',\n",
       " 'MaxTemp',\n",
       " 'Rainfall',\n",
       " 'Evaporation',\n",
       " 'Sunshine',\n",
       " 'WindGustSpeed',\n",
       " 'WindSpeed9am',\n",
       " 'WindSpeed3pm',\n",
       " 'Humidity9am',\n",
       " 'Humidity3pm',\n",
       " 'Pressure9am',\n",
       " 'Pressure3pm',\n",
       " 'Temp9am',\n",
       " 'Temp3pm']"
      ]
     },
     "execution_count": 49,
     "metadata": {},
     "output_type": "execute_result"
    }
   ],
   "source": [
    "#去除分类型变量\n",
    "for i in cate:\n",
    "    col.remove(i)\n",
    "\n",
    "col"
   ]
  },
  {
   "cell_type": "code",
   "execution_count": 50,
   "metadata": {},
   "outputs": [],
   "source": [
    "#实例化模型，填补策略为\"mean\"表示均值\n",
    "impmean = SimpleImputer(missing_values=np.nan,strategy = \"mean\")\n",
    "#fit模型\n",
    "X.loc[:,col] = impmean.fit_transform(X.loc[:,col])"
   ]
  },
  {
   "cell_type": "code",
   "execution_count": 51,
   "metadata": {},
   "outputs": [
    {
     "data": {
      "text/plain": [
       "Month            0.0\n",
       "MinTemp          0.0\n",
       "MaxTemp          0.0\n",
       "Rainfall         0.0\n",
       "Evaporation      0.0\n",
       "Sunshine         0.0\n",
       "WindGustDir      0.0\n",
       "WindGustSpeed    0.0\n",
       "WindDir9am       0.0\n",
       "WindDir3pm       0.0\n",
       "WindSpeed9am     0.0\n",
       "WindSpeed3pm     0.0\n",
       "Humidity9am      0.0\n",
       "Humidity3pm      0.0\n",
       "Pressure9am      0.0\n",
       "Pressure3pm      0.0\n",
       "Cloud9am         0.0\n",
       "Cloud3pm         0.0\n",
       "Temp9am          0.0\n",
       "Temp3pm          0.0\n",
       "RainToday        0.0\n",
       "dtype: float64"
      ]
     },
     "execution_count": 51,
     "metadata": {},
     "output_type": "execute_result"
    }
   ],
   "source": [
    "X.isnull().mean()"
   ]
  },
  {
   "cell_type": "markdown",
   "metadata": {},
   "source": [
    "### 7. 连续性变量无量纲化\n",
    "\n",
    "    数据的无量纲化是SVM执行前的重要步骤，因此我们需要对数据进行无量纲化。但注意，这个操作我们不对分类型变量进行。\n",
    "    \n",
    "    "
   ]
  },
  {
   "cell_type": "code",
   "execution_count": 52,
   "metadata": {},
   "outputs": [
    {
     "data": {
      "text/plain": [
       "['MinTemp',\n",
       " 'MaxTemp',\n",
       " 'Rainfall',\n",
       " 'Evaporation',\n",
       " 'Sunshine',\n",
       " 'WindGustSpeed',\n",
       " 'WindSpeed9am',\n",
       " 'WindSpeed3pm',\n",
       " 'Humidity9am',\n",
       " 'Humidity3pm',\n",
       " 'Pressure9am',\n",
       " 'Pressure3pm',\n",
       " 'Temp9am',\n",
       " 'Temp3pm']"
      ]
     },
     "execution_count": 52,
     "metadata": {},
     "output_type": "execute_result"
    }
   ],
   "source": [
    "col.remove(\"Month\")\n",
    "col"
   ]
  },
  {
   "cell_type": "code",
   "execution_count": 53,
   "metadata": {},
   "outputs": [],
   "source": [
    "#数据转换为均值为0，方差为1的数据\n",
    "#标准化不改变数据的分布，不会把数据变成正态分布的\n",
    "from sklearn.preprocessing import StandardScaler \n",
    "X.loc[:,col] = StandardScaler().fit_transform(X.loc[:,col])"
   ]
  },
  {
   "cell_type": "code",
   "execution_count": 54,
   "metadata": {},
   "outputs": [
    {
     "data": {
      "text/html": [
       "<div>\n",
       "<style scoped>\n",
       "    .dataframe tbody tr th:only-of-type {\n",
       "        vertical-align: middle;\n",
       "    }\n",
       "\n",
       "    .dataframe tbody tr th {\n",
       "        vertical-align: top;\n",
       "    }\n",
       "\n",
       "    .dataframe thead th {\n",
       "        text-align: right;\n",
       "    }\n",
       "</style>\n",
       "<table border=\"1\" class=\"dataframe\">\n",
       "  <thead>\n",
       "    <tr style=\"text-align: right;\">\n",
       "      <th></th>\n",
       "      <th>Month</th>\n",
       "      <th>MinTemp</th>\n",
       "      <th>MaxTemp</th>\n",
       "      <th>Rainfall</th>\n",
       "      <th>Evaporation</th>\n",
       "      <th>Sunshine</th>\n",
       "      <th>WindGustDir</th>\n",
       "      <th>WindGustSpeed</th>\n",
       "      <th>WindDir9am</th>\n",
       "      <th>WindDir3pm</th>\n",
       "      <th>...</th>\n",
       "      <th>WindSpeed3pm</th>\n",
       "      <th>Humidity9am</th>\n",
       "      <th>Humidity3pm</th>\n",
       "      <th>Pressure9am</th>\n",
       "      <th>Pressure3pm</th>\n",
       "      <th>Cloud9am</th>\n",
       "      <th>Cloud3pm</th>\n",
       "      <th>Temp9am</th>\n",
       "      <th>Temp3pm</th>\n",
       "      <th>RainToday</th>\n",
       "    </tr>\n",
       "  </thead>\n",
       "  <tbody>\n",
       "    <tr>\n",
       "      <th>0</th>\n",
       "      <td>12.0</td>\n",
       "      <td>0.189954</td>\n",
       "      <td>-0.045964</td>\n",
       "      <td>-0.207757</td>\n",
       "      <td>0.0</td>\n",
       "      <td>-6.495101e-16</td>\n",
       "      <td>13.0</td>\n",
       "      <td>0.305648</td>\n",
       "      <td>13.0</td>\n",
       "      <td>14.0</td>\n",
       "      <td>...</td>\n",
       "      <td>0.614850</td>\n",
       "      <td>0.113891</td>\n",
       "      <td>-1.435935</td>\n",
       "      <td>-1.475456</td>\n",
       "      <td>-1.220966</td>\n",
       "      <td>8.0</td>\n",
       "      <td>7.0</td>\n",
       "      <td>-0.013521</td>\n",
       "      <td>0.016412</td>\n",
       "      <td>0.0</td>\n",
       "    </tr>\n",
       "    <tr>\n",
       "      <th>1</th>\n",
       "      <td>12.0</td>\n",
       "      <td>-0.749174</td>\n",
       "      <td>0.263480</td>\n",
       "      <td>-0.278989</td>\n",
       "      <td>0.0</td>\n",
       "      <td>-6.495101e-16</td>\n",
       "      <td>14.0</td>\n",
       "      <td>0.305648</td>\n",
       "      <td>6.0</td>\n",
       "      <td>15.0</td>\n",
       "      <td>...</td>\n",
       "      <td>0.385532</td>\n",
       "      <td>-1.312265</td>\n",
       "      <td>-1.289821</td>\n",
       "      <td>-1.045586</td>\n",
       "      <td>-1.116203</td>\n",
       "      <td>7.0</td>\n",
       "      <td>7.0</td>\n",
       "      <td>0.032832</td>\n",
       "      <td>0.380274</td>\n",
       "      <td>0.0</td>\n",
       "    </tr>\n",
       "    <tr>\n",
       "      <th>2</th>\n",
       "      <td>12.0</td>\n",
       "      <td>0.111694</td>\n",
       "      <td>0.347873</td>\n",
       "      <td>-0.278989</td>\n",
       "      <td>0.0</td>\n",
       "      <td>-6.495101e-16</td>\n",
       "      <td>15.0</td>\n",
       "      <td>0.457874</td>\n",
       "      <td>13.0</td>\n",
       "      <td>15.0</td>\n",
       "      <td>...</td>\n",
       "      <td>0.844167</td>\n",
       "      <td>-1.629188</td>\n",
       "      <td>-1.046299</td>\n",
       "      <td>-1.490279</td>\n",
       "      <td>-0.981508</td>\n",
       "      <td>7.0</td>\n",
       "      <td>2.0</td>\n",
       "      <td>0.619963</td>\n",
       "      <td>0.220175</td>\n",
       "      <td>0.0</td>\n",
       "    </tr>\n",
       "    <tr>\n",
       "      <th>3</th>\n",
       "      <td>12.0</td>\n",
       "      <td>-0.467436</td>\n",
       "      <td>0.671383</td>\n",
       "      <td>-0.278989</td>\n",
       "      <td>0.0</td>\n",
       "      <td>-6.495101e-16</td>\n",
       "      <td>4.0</td>\n",
       "      <td>-1.216614</td>\n",
       "      <td>9.0</td>\n",
       "      <td>0.0</td>\n",
       "      <td>...</td>\n",
       "      <td>-1.105034</td>\n",
       "      <td>-1.259444</td>\n",
       "      <td>-1.728162</td>\n",
       "      <td>-0.007969</td>\n",
       "      <td>-0.367897</td>\n",
       "      <td>7.0</td>\n",
       "      <td>7.0</td>\n",
       "      <td>0.171889</td>\n",
       "      <td>0.700472</td>\n",
       "      <td>0.0</td>\n",
       "    </tr>\n",
       "    <tr>\n",
       "      <th>4</th>\n",
       "      <td>12.0</td>\n",
       "      <td>0.831692</td>\n",
       "      <td>1.276205</td>\n",
       "      <td>-0.160269</td>\n",
       "      <td>0.0</td>\n",
       "      <td>-6.495101e-16</td>\n",
       "      <td>13.0</td>\n",
       "      <td>0.077309</td>\n",
       "      <td>1.0</td>\n",
       "      <td>7.0</td>\n",
       "      <td>...</td>\n",
       "      <td>0.156214</td>\n",
       "      <td>0.694918</td>\n",
       "      <td>-0.900186</td>\n",
       "      <td>-1.015940</td>\n",
       "      <td>-1.385593</td>\n",
       "      <td>7.0</td>\n",
       "      <td>8.0</td>\n",
       "      <td>0.125537</td>\n",
       "      <td>1.166215</td>\n",
       "      <td>1.0</td>\n",
       "    </tr>\n",
       "  </tbody>\n",
       "</table>\n",
       "<p>5 rows × 21 columns</p>\n",
       "</div>"
      ],
      "text/plain": [
       "   Month   MinTemp   MaxTemp  Rainfall  Evaporation      Sunshine  \\\n",
       "0   12.0  0.189954 -0.045964 -0.207757          0.0 -6.495101e-16   \n",
       "1   12.0 -0.749174  0.263480 -0.278989          0.0 -6.495101e-16   \n",
       "2   12.0  0.111694  0.347873 -0.278989          0.0 -6.495101e-16   \n",
       "3   12.0 -0.467436  0.671383 -0.278989          0.0 -6.495101e-16   \n",
       "4   12.0  0.831692  1.276205 -0.160269          0.0 -6.495101e-16   \n",
       "\n",
       "   WindGustDir  WindGustSpeed  WindDir9am  WindDir3pm  ...  WindSpeed3pm  \\\n",
       "0         13.0       0.305648        13.0        14.0  ...      0.614850   \n",
       "1         14.0       0.305648         6.0        15.0  ...      0.385532   \n",
       "2         15.0       0.457874        13.0        15.0  ...      0.844167   \n",
       "3          4.0      -1.216614         9.0         0.0  ...     -1.105034   \n",
       "4         13.0       0.077309         1.0         7.0  ...      0.156214   \n",
       "\n",
       "   Humidity9am  Humidity3pm  Pressure9am  Pressure3pm  Cloud9am  Cloud3pm  \\\n",
       "0     0.113891    -1.435935    -1.475456    -1.220966       8.0       7.0   \n",
       "1    -1.312265    -1.289821    -1.045586    -1.116203       7.0       7.0   \n",
       "2    -1.629188    -1.046299    -1.490279    -0.981508       7.0       2.0   \n",
       "3    -1.259444    -1.728162    -0.007969    -0.367897       7.0       7.0   \n",
       "4     0.694918    -0.900186    -1.015940    -1.385593       7.0       8.0   \n",
       "\n",
       "    Temp9am   Temp3pm  RainToday  \n",
       "0 -0.013521  0.016412        0.0  \n",
       "1  0.032832  0.380274        0.0  \n",
       "2  0.619963  0.220175        0.0  \n",
       "3  0.171889  0.700472        0.0  \n",
       "4  0.125537  1.166215        1.0  \n",
       "\n",
       "[5 rows x 21 columns]"
      ]
     },
     "execution_count": 54,
     "metadata": {},
     "output_type": "execute_result"
    }
   ],
   "source": [
    "X.head()"
   ]
  },
  {
   "cell_type": "markdown",
   "metadata": {},
   "source": [
    "### 8. 划分数据集"
   ]
  },
  {
   "cell_type": "code",
   "execution_count": 55,
   "metadata": {},
   "outputs": [],
   "source": [
    "#分训练集和测试集\n",
    "from sklearn.model_selection import train_test_split\n",
    "Xtrain, Xtest, Ytrain, Ytest = train_test_split(X,Y,test_size=0.3,random_state=42)"
   ]
  },
  {
   "cell_type": "code",
   "execution_count": 56,
   "metadata": {},
   "outputs": [],
   "source": [
    "# #恢复索引\n",
    "# for i in [Xtrain, Xtest, Ytrain, Ytest]:\n",
    "#     i.index = range(i.shape[0])"
   ]
  },
  {
   "cell_type": "markdown",
   "metadata": {},
   "source": [
    "### 9. SVC-模型"
   ]
  },
  {
   "cell_type": "code",
   "execution_count": 57,
   "metadata": {},
   "outputs": [],
   "source": [
    "from time import time #随时监控我们的模型的运行时间\n",
    "import datetime\n",
    "from sklearn.svm import SVC\n",
    "from sklearn.model_selection import cross_val_score\n",
    "from sklearn.metrics import roc_auc_score, recall_score"
   ]
  },
  {
   "cell_type": "markdown",
   "metadata": {},
   "source": [
    "#### 9.1 调整核函数</p>"
   ]
  },
  {
   "cell_type": "code",
   "execution_count": 58,
   "metadata": {},
   "outputs": [],
   "source": [
    "# #建模选择自然是我们的支持向量机SVC，首先用核函数的学习曲线来选择核函数\n",
    "# #我们希望同时观察，精确性，recall以及AUC分数\n",
    "# times = time() #因为SVM是计算量很大的模型，所以我们需要时刻监控我们的模型运行时间\n",
    "\n",
    "# for kernel in [\"linear\",\"poly\",\"rbf\",\"sigmoid\"]:\n",
    "#     clf = SVC(kernel = kernel,gamma=\"auto\",degree = 1,cache_size = 10000).fit(Xtrain, Ytrain)\n",
    "#     result = clf.predict(Xtest)\n",
    "#     score = clf.score(Xtest,Ytest)\n",
    "#     recall = recall_score(Ytest, result)\n",
    "#     auc = roc_auc_score(Ytest,clf.decision_function(Xtest))\n",
    "#     print(\"%s 's testing accuracy %f, recall is %f', auc is %f\" % (kernel,score,recall,auc))\n",
    "#     print(datetime.datetime.fromtimestamp(time()-times).strftime(\"%M:%S:%f\"))"
   ]
  },
  {
   "cell_type": "markdown",
   "metadata": {},
   "source": [
    "<p>我们注意到，模型的准确度和auc面积还是勉勉强强，但是每个核函数下的recall都不太高。相比之下，其实线性模型的效果是最好的。那现在我们可以开始考虑了，在这种状况下，我们要向着什么方向进行调参呢？我们最想要的是什么？</p>\n",
    "我们可以有不同的目标：</p>\n",
    "<p>一，我希望不计一切代价判断出少数类，得到最高的recall。</p>\n",
    "<p>二，我们希望追求最高的预测准确率，一切目的都是为了让accuracy更高，我们不在意recall或者AUC。</p>\n",
    "<p>三，我们希望达到recall，ROC和accuracy之间的平衡，不追求任何一个也不牺牲任何一个</p>"
   ]
  },
  {
   "cell_type": "markdown",
   "metadata": {},
   "source": [
    "#### 9.2 最求最高Recall\n",
    "\n",
    "\n",
    "<p>如果我们想要的是最高的recall，可以牺牲我们准确度，希望不计一切代价来捕获少数类，那我们首先可以打开我们的class_weight参数，使用balanced模式来调节我们的recall。</p>"
   ]
  },
  {
   "cell_type": "code",
   "execution_count": 59,
   "metadata": {},
   "outputs": [
    {
     "name": "stdout",
     "output_type": "stream",
     "text": [
      "testing accuracy 0.805664, recall is 0.760000', auc is 0.871060\n",
      "41:46:279992\n"
     ]
    }
   ],
   "source": [
    "times = time()\n",
    "clf = SVC(kernel = \"rbf\",gamma=\"auto\",class_weight = \"balanced\",cache_size = 10000).fit(Xtrain, Ytrain)\n",
    "result = clf.predict(Xtest)\n",
    "score = clf.score(Xtest,Ytest)\n",
    "recall = recall_score(Ytest, result)\n",
    "auc = roc_auc_score(Ytest,clf.decision_function(Xtest))\n",
    "print(\"testing accuracy %f, recall is %f', auc is %f\" %(score,recall,auc))\n",
    "print(datetime.datetime.fromtimestamp(time()-times).strftime(\"%M:%S:%f\"))"
   ]
  },
  {
   "cell_type": "markdown",
   "metadata": {},
   "source": [
    "随着recall地无节制上升，我们的精确度下降得十分厉害，不过看起来AUC面积却还好，稳定保持在0.87左右。如果此时我们的目的就是追求一个比较高的AUC分数和比较好的recall，那我们的模型此时就算是很不错了。虽然现在，我们的精确度很低，但是我们的确精准地捕捉出了每一个雨天。\n",
    "\n",
    "\n",
    "\n",
    "#### 9.3 追求平衡\n",
    "\n",
    "\n",
    "我们前面经历了多种尝试，选定了高斯核，现在我们来试试看调节线性核函数的C值能否有效果."
   ]
  },
  {
   "cell_type": "code",
   "execution_count": 60,
   "metadata": {},
   "outputs": [
    {
     "name": "stdout",
     "output_type": "stream",
     "text": [
      "under C 1.000000, testing accuracy is 0.799405,recall is 0.772913', auc is 0.874904\n",
      "27:26:617645\n",
      "under C 2.000000, testing accuracy is 0.800155,recall is 0.775853', auc is 0.876551\n",
      "27:20:059989\n",
      "under C 3.000000, testing accuracy is 0.799803,recall is 0.779003', auc is 0.877328\n",
      "27:52:438227\n",
      "under C 4.000000, testing accuracy is 0.800319,recall is 0.779528', auc is 0.877801\n",
      "27:25:472531\n",
      "under C 5.000000, testing accuracy is 0.799780,recall is 0.779318', auc is 0.878117\n",
      "27:39:782962\n",
      "under C 6.000000, testing accuracy is 0.799733,recall is 0.779423', auc is 0.878332\n",
      "27:08:588843\n",
      "under C 7.000000, testing accuracy is 0.799733,recall is 0.779633', auc is 0.878548\n",
      "26:58:264811\n",
      "under C 8.000000, testing accuracy is 0.799967,recall is 0.779528', auc is 0.878675\n",
      "27:48:879871\n",
      "under C 9.000000, testing accuracy is 0.800178,recall is 0.780262', auc is 0.878811\n",
      "28:07:099693\n",
      "under C 10.000000, testing accuracy is 0.800319,recall is 0.780262', auc is 0.878886\n",
      "28:38:475830\n",
      "0.8788861435178177 10.0\n"
     ]
    },
    {
     "data": {
      "image/png": "[encoded data removed]",
      "text/plain": [
       "<Figure size 432x288 with 1 Axes>"
      ]
     },
     "metadata": {
      "needs_background": "light"
     },
     "output_type": "display_data"
    }
   ],
   "source": [
    "###======【TIME WARNING】======###\n",
    "import matplotlib.pyplot as plt\n",
    "C_range = np.linspace(1,10,10)\n",
    "recallall = []\n",
    "aucall = []\n",
    "scoreall = []\n",
    "for C in C_range:\n",
    "    times = time()\n",
    "    clf = SVC(kernel = \"rbf\",C=C,class_weight = \"balanced\").fit(Xtrain, Ytrain)\n",
    "    result = clf.predict(Xtest)\n",
    "    score = clf.score(Xtest,Ytest)\n",
    "    recall = recall_score(Ytest, result)\n",
    "    auc = roc_auc_score(Ytest,clf.decision_function(Xtest))\n",
    "    recallall.append(recall)\n",
    "    aucall.append(auc)\n",
    "    scoreall.append(score)\n",
    "    print(\"under C %f, testing accuracy is %f,recall is %f', auc is %f\" %\n",
    "(C,score,recall,auc))\n",
    "    print(datetime.datetime.fromtimestamp(time()-times).strftime(\"%M:%S:%f\"))\n",
    "    \n",
    "print(max(aucall),C_range[aucall.index(max(aucall))])\n",
    "plt.figure()\n",
    "plt.plot(C_range,recallall,c=\"red\",label=\"recall\")\n",
    "plt.plot(C_range,aucall,c=\"black\",label=\"auc\")\n",
    "plt.plot(C_range,scoreall,c=\"orange\",label=\"accuracy\")\n",
    "plt.legend()\n",
    "plt.show()"
   ]
  },
  {
   "cell_type": "markdown",
   "metadata": {},
   "source": [
    "可以观察到几个现象。\n",
    "\n",
    "\n",
    "首先，我们注意到，随着C值逐渐增大，模型的运行速度变得越来越慢。对于SVM这个本来运行就不快的模型来说，巨大的C值会是一个比较危险的消耗。所以正常来说，我们应该设定一个较小的C值范围来进行调整。\n",
    "\n",
    "\n",
    "其次，C很小的时候，模型的各项指标都很低，但当C到1以上之后，模型的表现开始逐渐稳定，在C逐渐变大之后，模型的效果并没有显著地提高。可以认为我们设定的C值范围太大了，然而再继续增大或者缩小C值的范围，AUC面积也只能够在0.86上下进行变化了，调节C值不能够让模型的任何指标实现质变.\n",
    "\n",
    "\n",
    "我们把目前为止最佳的C值带入模型，看看我们的准确率，Recall的具体值."
   ]
  },
  {
   "cell_type": "code",
   "execution_count": 61,
   "metadata": {},
   "outputs": [
    {
     "name": "stdout",
     "output_type": "stream",
     "text": [
      "testing accuracy 0.800319,recall is 0.779528', auc is 0.877801\n",
      "26:44:715456\n"
     ]
    }
   ],
   "source": [
    "times = time()\n",
    "clf = SVC(kernel = \"rbf\",C=4,class_weight = \"balanced\").fit(Xtrain, Ytrain)\n",
    "result = clf.predict(Xtest)\n",
    "score = clf.score(Xtest,Ytest)\n",
    "recall = recall_score(Ytest, result)\n",
    "auc = roc_auc_score(Ytest,clf.decision_function(Xtest))\n",
    "print(\"testing accuracy %f,recall is %f', auc is %f\" % (score,recall,auc))\n",
    "print(datetime.datetime.fromtimestamp(time()-times).strftime(\"%M:%S:%f\"))\n"
   ]
  },
  {
   "cell_type": "markdown",
   "metadata": {},
   "source": [
    "可以看到，这种情况下模型的准确率，Recall和AUC都没有太差，但是也没有太好，这也许就是模型平衡后的一种结果。现在，光是调整支持向量机本身的参数，已经不能够满足我们的需求了，要想让AUC面积更进一步，我们需要绘制ROC曲线，查看我们是否可以通过调整阈值来对这个模型进行改进."
   ]
  },
  {
   "cell_type": "code",
   "execution_count": 62,
   "metadata": {},
   "outputs": [
    {
     "data": {
      "image/png": "[encoded data removed]",
      "text/plain": [
       "<Figure size 432x288 with 1 Axes>"
      ]
     },
     "metadata": {
      "needs_background": "light"
     },
     "output_type": "display_data"
    }
   ],
   "source": [
    "from sklearn.metrics import roc_curve as ROC\n",
    "import matplotlib.pyplot as plt\n",
    "FPR, Recall, thresholds = ROC(Ytest,clf.decision_function(Xtest),pos_label=1)\n",
    "area = roc_auc_score(Ytest,clf.decision_function(Xtest))\n",
    "\n",
    "plt.figure()\n",
    "plt.plot(FPR, Recall, color='red',\n",
    "         label='ROC curve (area = %0.2f)' % area)\n",
    "plt.plot([0, 1], [0, 1], color='black', linestyle='--')\n",
    "plt.xlim([-0.05, 1.05])\n",
    "plt.ylim([-0.05, 1.05])\n",
    "plt.xlabel('False Positive Rate')\n",
    "plt.ylabel('Recall')\n",
    "plt.title('Receiver operating characteristic example')\n",
    "plt.legend(loc=\"lower right\")\n",
    "plt.show()"
   ]
  },
  {
   "cell_type": "code",
   "execution_count": 63,
   "metadata": {},
   "outputs": [
    {
     "data": {
      "text/plain": [
       "-0.0827962727570164"
      ]
     },
     "execution_count": 63,
     "metadata": {},
     "output_type": "execute_result"
    }
   ],
   "source": [
    "#以此模型作为基础，我们来求解最佳阈值：\n",
    "maxindex = (Recall - FPR).tolist().index(max(Recall - FPR))\n",
    "thresholds[maxindex]"
   ]
  },
  {
   "cell_type": "code",
   "execution_count": 64,
   "metadata": {},
   "outputs": [
    {
     "name": "stdout",
     "output_type": "stream",
     "text": [
      "testing accuracy 0.790942,recall is 0.798530\n",
      "21:47:681755\n"
     ]
    }
   ],
   "source": [
    "#基于我们选出的最佳阈值，我们来认为确定y_predict，并确定在这个阈值下的recall和准确度的值：\n",
    "from sklearn.metrics import accuracy_score as AC\n",
    "times = time()\n",
    "clf = SVC(kernel = \"rbf\",C=4,class_weight = \"balanced\").fit(Xtrain, Ytrain)\n",
    "prob = pd.DataFrame(clf.decision_function(Xtest))\n",
    "prob.loc[prob.iloc[:,0] >= thresholds[maxindex],\"y_pred\"]=1\n",
    "prob.loc[prob.iloc[:,0] < thresholds[maxindex],\"y_pred\"]=0\n",
    "prob.loc[:,\"y_pred\"].isnull().sum()\n",
    "#检查模型本身的准确度\n",
    "score = AC(Ytest,prob.loc[:,\"y_pred\"].values)\n",
    "recall = recall_score(Ytest, prob.loc[:,\"y_pred\"])\n",
    "print(\"testing accuracy %f,recall is %f\" % (score,recall))\n",
    "print(datetime.datetime.fromtimestamp(time()-times).strftime(\"%M:%S:%f\"))"
   ]
  },
  {
   "cell_type": "markdown",
   "metadata": {},
   "source": [
    "反而还不如我们不调整时的效果好。可见，如果我们追求平衡，那SVC本身的结果就已经非常接近最优结果了。调\n",
    "节阈值，调节参数C和调节class_weight都不一定有效果。但整体来看，我们的模型不是一个糟糕的模型，但这个\n",
    "结果如果提交到kaggle参加比赛是绝对不足够的。如果大家感兴趣，还可以更加深入地探索模型，或者换别的方法\n",
    "来处理特征，以达到AUC面积0.9以上，或是准确度或recall都提升到90%以上。"
   ]
  },
  {
   "cell_type": "markdown",
   "metadata": {},
   "source": [
    "### 最后补充一句：我TM傻了，我会用这个算法，MMP打死我也不用了"
   ]
  },
  {
   "cell_type": "code",
   "execution_count": null,
   "metadata": {},
   "outputs": [],
   "source": []
  }
 ],
 "metadata": {
  "kernelspec": {
   "display_name": "Python 3",
   "language": "python",
   "name": "python3"
  },
  "language_info": {
   "codemirror_mode": {
    "name": "ipython",
    "version": 3
   },
   "file_extension": ".py",
   "mimetype": "text/x-python",
   "name": "python",
   "nbconvert_exporter": "python",
   "pygments_lexer": "ipython3",
   "version": "3.7.4"
  }
 },
 "nbformat": 4,
 "nbformat_minor": 4
}
